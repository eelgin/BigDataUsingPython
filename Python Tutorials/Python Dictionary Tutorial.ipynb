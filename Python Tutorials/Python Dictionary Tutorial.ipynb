{
 "cells": [
  {
   "cell_type": "markdown",
   "metadata": {},
   "source": [
    "# PYTHON DICTIONARIES"
   ]
  },
  {
   "cell_type": "markdown",
   "metadata": {},
   "source": [
    "## Create, Access, Modify, Delete"
   ]
  },
  {
   "cell_type": "markdown",
   "metadata": {},
   "source": [
    "A dictionary is an undordered, changeable, and indexed python collection. This gives it a lot of functionality which we will explore today."
   ]
  },
  {
   "cell_type": "code",
   "execution_count": 35,
   "metadata": {},
   "outputs": [],
   "source": [
    "my_programming_class = {\n",
    "    \"Susan\" : \"A\",\n",
    "    \"Mike\" : \"C\",\n",
    "    \"Tom\" :\"B\",\n",
    "    \"Carl\" : \"B+\",\n",
    "    \"Riley\" : \"C\"\n",
    "}"
   ]
  },
  {
   "cell_type": "markdown",
   "metadata": {},
   "source": [
    "Above we have a dictionary containing the grades of my programming class.\n",
    "\n",
    "*Dictionaries are created using curly braces {} and listing key and value pairs*\n",
    "\n",
    "The key in this dictionary are the students names, while the Value pair is their current letter grade.\n",
    "\n",
    "Using a dictionary to manage these grades is rather useful for I can update someones grade by their key (name) rather than an index."
   ]
  },
  {
   "cell_type": "code",
   "execution_count": 36,
   "metadata": {},
   "outputs": [
    {
     "name": "stdout",
     "output_type": "stream",
     "text": [
      "{'Mike': 'C', 'Tom': 'B', 'Riley': 'D', 'Carl': 'B+', 'Susan': 'A'}\n"
     ]
    }
   ],
   "source": [
    "my_programming_class[\"Riley\"] = 'D'\n",
    "print(my_programming_class)"
   ]
  },
  {
   "cell_type": "markdown",
   "metadata": {},
   "source": [
    "I can access a specific students grade by referencing their key."
   ]
  },
  {
   "cell_type": "code",
   "execution_count": 37,
   "metadata": {},
   "outputs": [
    {
     "name": "stdout",
     "output_type": "stream",
     "text": [
      "B\n"
     ]
    }
   ],
   "source": [
    "print(my_programming_class[\"Tom\"])"
   ]
  },
  {
   "cell_type": "markdown",
   "metadata": {},
   "source": [
    "Or all of the grades of my class using the *values()* function"
   ]
  },
  {
   "cell_type": "code",
   "execution_count": 38,
   "metadata": {},
   "outputs": [
    {
     "name": "stdout",
     "output_type": "stream",
     "text": [
      "['C', 'B', 'D', 'B+', 'A']\n"
     ]
    }
   ],
   "source": [
    "print(my_programming_class.values())"
   ]
  },
  {
   "cell_type": "markdown",
   "metadata": {},
   "source": [
    "Also if a student drops their is not issue, because i can just remove them from the dictionary all together using *del*."
   ]
  },
  {
   "cell_type": "code",
   "execution_count": 39,
   "metadata": {},
   "outputs": [
    {
     "name": "stdout",
     "output_type": "stream",
     "text": [
      "{'Mike': 'C', 'Tom': 'B', 'Carl': 'B+', 'Susan': 'A'}\n"
     ]
    }
   ],
   "source": [
    "del my_programming_class[\"Riley\"]\n",
    "\n",
    "print(my_programming_class)"
   ]
  },
  {
   "cell_type": "markdown",
   "metadata": {},
   "source": [
    "## Looping"
   ]
  },
  {
   "cell_type": "markdown",
   "metadata": {},
   "source": [
    "My programming class is no easy task. A B- minimum is required to pass. Riley already dropped last python prompt because of his D in my class. As final grades are approuching, it would only make sense to write a script that automatically removes and students from my class that have not made the B- average."
   ]
  },
  {
   "cell_type": "code",
   "execution_count": 40,
   "metadata": {},
   "outputs": [
    {
     "name": "stdout",
     "output_type": "stream",
     "text": [
      "Before cutoff\n",
      "{'Mike': 'C', 'Tom': 'B', 'Carl': 'B+', 'Susan': 'A'}\n",
      "After cutoff\n",
      "{'Tom': 'B', 'Carl': 'B+', 'Susan': 'A'}\n"
     ]
    }
   ],
   "source": [
    "passing_grades = (\"A+\", \"A\", \"A-\", \"B+\", \"B\", \"B-\")\n",
    "\n",
    "print(\"Before cutoff\")\n",
    "print(my_programming_class)\n",
    "\n",
    "for student,grade in my_programming_class.items():\n",
    "    if grade not in passing_grades:\n",
    "        del my_programming_class[student]\n",
    "\n",
    "print(\"After cutoff\")\n",
    "print(my_programming_class)"
   ]
  },
  {
   "cell_type": "markdown",
   "metadata": {},
   "source": [
    "There are a few things going on here so lets break it down.\n",
    "\n",
    "`passing_grades = (\"A+\", \"A\", \"A-\", \"B+\", \"B\", \"B-\")`\n",
    "This line creates a tuple of all the acceptable passing grades. I am a rather stubborn grader and do not see myself changing a B- minimum pass requirement ever, hence why it is a tuple.\n",
    "\n",
    "`for student,grade in my_programming_class.items():`\n",
    "This is the for loop. As you can see I have two iterable members I am declaring. `student` and `grade`. having two iterable member in conjunction with `.items()` after my dictionary allows me to reference both of the keys and values stored within the dictionary.\n",
    "\n",
    "`if grade not in passing_grades:`\n",
    "Already I am taking advantage of having access to the key and value pair by clearly comparing the grades (the value) to a list of acceptable grades.\n",
    "\n",
    "`del my_programming_class[student]`\n",
    "Here I am using the key to tell the dictionary which object I wish to delete from it. Because it is an iterable member it holds the reference to the dictionary key and I don not have to pass the dictionary a string."
   ]
  },
  {
   "cell_type": "markdown",
   "metadata": {},
   "source": [
    "There are other simpler ways to loop through dictionaries that do not give you as much readability, but are just as useful.\n",
    "\n",
    "With only one iterable member, you iterate through the dictionary keys."
   ]
  },
  {
   "cell_type": "code",
   "execution_count": 41,
   "metadata": {},
   "outputs": [
    {
     "name": "stdout",
     "output_type": "stream",
     "text": [
      "Tom\n",
      "Carl\n",
      "Susan\n"
     ]
    }
   ],
   "source": [
    "for students in my_programming_class:\n",
    "    print(students)"
   ]
  },
  {
   "cell_type": "markdown",
   "metadata": {},
   "source": [
    "To access the values, you have to pass the key to the dictionary as an index."
   ]
  },
  {
   "cell_type": "code",
   "execution_count": 42,
   "metadata": {},
   "outputs": [
    {
     "name": "stdout",
     "output_type": "stream",
     "text": [
      "B\n",
      "B+\n",
      "A\n"
     ]
    }
   ],
   "source": [
    "for students in my_programming_class:\n",
    "    print my_programming_class[students]"
   ]
  },
  {
   "cell_type": "markdown",
   "metadata": {},
   "source": [
    "While both using one iterable member or two do give you the same functionality, using two can greatly increase readability providing context for what both the keys and values of the dictionary represent. This makes it a far more pythonic design choice."
   ]
  },
  {
   "cell_type": "markdown",
   "metadata": {},
   "source": [
    "## Merging"
   ]
  },
  {
   "cell_type": "code",
   "execution_count": 43,
   "metadata": {},
   "outputs": [],
   "source": [
    "my_programming_class_2 = {\n",
    "    \"Sally\" : \"B+\",\n",
    "    \"Mary\" : \"A-\",\n",
    "    \"Oscar\" : \"B\"\n",
    "}"
   ]
  },
  {
   "cell_type": "markdown",
   "metadata": {},
   "source": [
    "This semester I gained a second programming class that has performed rather well, but apparently my difficulty is too much for most students. Now I'm merging the class to just one section and need to update my online gradebook.\n",
    "\n",
    "While python is a great language, 2.7 does not offer any singular built in method to merge two dictionaries. This means we will have to get creative and combine methods."
   ]
  },
  {
   "cell_type": "code",
   "execution_count": 45,
   "metadata": {},
   "outputs": [
    {
     "name": "stdout",
     "output_type": "stream",
     "text": [
      "{'Carl': 'B+', 'Susan': 'A', 'Oscar': 'B', 'Tom': 'B', 'Sally': 'B+', 'Mary': 'A-'}\n"
     ]
    }
   ],
   "source": [
    "def merge_class (x,y):\n",
    "    z = x.copy()\n",
    "    z.update(y)\n",
    "    return z\n",
    "\n",
    "final_class = merge_class(my_programming_class,my_programming_class_2)\n",
    "print(final_class)"
   ]
  },
  {
   "cell_type": "markdown",
   "metadata": {},
   "source": [
    "Above we create a new dictionary that merges two other dictionaries together. It's a rather simple two step process that ustilizes two member methods of dictionaries. Namely the `.copy()` and the `.update()` methods."
   ]
  },
  {
   "cell_type": "code",
   "execution_count": null,
   "metadata": {},
   "outputs": [],
   "source": []
  }
 ],
 "metadata": {
  "kernelspec": {
   "display_name": "Python 2",
   "language": "python",
   "name": "python2"
  },
  "language_info": {
   "codemirror_mode": {
    "name": "ipython",
    "version": 2
   },
   "file_extension": ".py",
   "mimetype": "text/x-python",
   "name": "python",
   "nbconvert_exporter": "python",
   "pygments_lexer": "ipython2",
   "version": "2.7.15"
  }
 },
 "nbformat": 4,
 "nbformat_minor": 2
}
