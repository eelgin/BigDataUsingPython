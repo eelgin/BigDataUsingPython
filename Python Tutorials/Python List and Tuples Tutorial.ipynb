{
 "cells": [
  {
   "cell_type": "markdown",
   "metadata": {},
   "source": [
    "# Python Lists vs Tuples"
   ]
  },
  {
   "cell_type": "markdown",
   "metadata": {},
   "source": [
    "## 1.) Creation"
   ]
  },
  {
   "cell_type": "code",
   "execution_count": 24,
   "metadata": {},
   "outputs": [
    {
     "name": "stdout",
     "output_type": "stream",
     "text": [
      "<type 'list'>\n",
      "['apple', 'orange', 'banana', 'mango']\n",
      "<type 'tuple'>\n",
      "('salary', 100000)\n"
     ]
    }
   ],
   "source": [
    "def type_print(an_object):\n",
    "    print(type(an_object))\n",
    "    print(an_object)\n",
    "\n",
    "fruits = [\"apple\", \"orange\", \"banana\", \"mango\"]\n",
    "\n",
    "money = (\"salary\", 100000)\n",
    "\n",
    "type_print(fruits)\n",
    "type_print(money)"
   ]
  },
  {
   "cell_type": "markdown",
   "metadata": {},
   "source": [
    "Above, we can see the creation of both a list and tuple. Their instantiation into the python world are visually similar. \n",
    "\n",
    "*As a rule, lists always use brackets, tuples **can** use parenthesis.*"
   ]
  },
  {
   "cell_type": "code",
   "execution_count": 25,
   "metadata": {},
   "outputs": [
    {
     "name": "stdout",
     "output_type": "stream",
     "text": [
      "<type 'tuple'>\n",
      "('budget', 25000)\n"
     ]
    }
   ],
   "source": [
    "expenses = \"budget\", 25000\n",
    "\n",
    "type_print(expenses)"
   ]
  },
  {
   "cell_type": "markdown",
   "metadata": {},
   "source": [
    "While using parenthesis are not nessisary, using them increases readability and is thus more pythonic."
   ]
  },
  {
   "cell_type": "markdown",
   "metadata": {},
   "source": [
    "## 2.) Proper Usage"
   ]
  },
  {
   "cell_type": "markdown",
   "metadata": {},
   "source": [
    "While both tuples and lists appear very similar, more often than not they are utilized for very different purposes.\n",
    "\n",
    "You may have noticed a distinct difference in the objects I stored within the example list and tuple"
   ]
  },
  {
   "cell_type": "code",
   "execution_count": 26,
   "metadata": {},
   "outputs": [
    {
     "name": "stdout",
     "output_type": "stream",
     "text": [
      "<type 'list'>\n",
      "['apple', 'orange', 'banana', 'mango']\n",
      "<type 'tuple'>\n",
      "('salary', 100000)\n"
     ]
    }
   ],
   "source": [
    "type_print(fruits)\n",
    "type_print(money)"
   ]
  },
  {
   "cell_type": "markdown",
   "metadata": {},
   "source": [
    "The list contains a sequence of string objects, specifically fruit, while the tuple contains both a string and an integer.\n",
    "\n",
    "This is no mistake.\n",
    "\n",
    "*More often than not, lists contain homogenous data types while tuples contain an assortment of types.*\n",
    "\n",
    "This is for several reasons:"
   ]
  },
  {
   "cell_type": "markdown",
   "metadata": {},
   "source": [
    "### Lists have member methods while Tuples do not."
   ]
  },
  {
   "cell_type": "code",
   "execution_count": 27,
   "metadata": {},
   "outputs": [
    {
     "name": "stdout",
     "output_type": "stream",
     "text": [
      "['peach', 'banana', 'apple', 'key-lime']\n",
      "['peach', 'banana', 'apple', 'key-lime', 'cherry']\n",
      "['apple', 'banana', 'cherry', 'key-lime', 'peach']\n",
      "['peach', 'key-lime', 'cherry', 'banana', 'apple']\n"
     ]
    }
   ],
   "source": [
    "pies = [\"peach\", \"banana\", \"apple\", \"key-lime\"]\n",
    "print(pies)\n",
    "\n",
    "pies.append(\"cherry\")\n",
    "print(pies)            \n",
    "pies.sort()\n",
    "print(pies)            \n",
    "\n",
    "pies.reverse()\n",
    "print(pies)"
   ]
  },
  {
   "cell_type": "markdown",
   "metadata": {},
   "source": [
    "Above you can see some of Python's list methods you may utilize while manipulating lists. Some of the more commonly used methods includes:\n",
    "\n",
    "    1.) list.append(obj)\n",
    "    2.) list.count(obj)\n",
    "    3.) list.extend(seq)\n",
    "    4.) list.index(obj)\n",
    "    5.) list.insert(index, obj)\n",
    "    6.) list.pop()\n",
    "    7.) list.remove(obj)\n",
    "    8.) list.reverse()\n",
    "    9.) list.sort([func])\n",
    "    \n",
    "[For more information on list methods click here](https://docs.python.org/2/tutorial/datastructures.html)"
   ]
  },
  {
   "cell_type": "markdown",
   "metadata": {},
   "source": [
    "### Lists are mutable, tuples are immutable"
   ]
  },
  {
   "cell_type": "code",
   "execution_count": 28,
   "metadata": {},
   "outputs": [],
   "source": [
    "count_list = [1,2,3,3]\n",
    "count_tuple = (1,2,3,3)"
   ]
  },
  {
   "cell_type": "markdown",
   "metadata": {},
   "source": [
    "Above we can see a simple instantiation of a list and tuple. They were meant to count from 1 to 4 but both contain a mistake. Lets try and fix that."
   ]
  },
  {
   "cell_type": "code",
   "execution_count": 29,
   "metadata": {},
   "outputs": [
    {
     "name": "stdout",
     "output_type": "stream",
     "text": [
      "<type 'list'>\n",
      "[1, 2, 3, 4]\n"
     ]
    }
   ],
   "source": [
    "count_list[3] = 4\n",
    "type_print(count_list)"
   ]
  },
  {
   "cell_type": "markdown",
   "metadata": {},
   "source": [
    "The list was easily modified to fix the issue. This is because python lists are *mutable*, meaning they can be modified after they are created."
   ]
  },
  {
   "cell_type": "code",
   "execution_count": 30,
   "metadata": {},
   "outputs": [
    {
     "ename": "TypeError",
     "evalue": "'tuple' object does not support item assignment",
     "output_type": "error",
     "traceback": [
      "\u001b[1;31m\u001b[0m",
      "\u001b[1;31mTypeError\u001b[0mTraceback (most recent call last)",
      "\u001b[1;32m<ipython-input-30-b4eabdc3bfff>\u001b[0m in \u001b[0;36m<module>\u001b[1;34m()\u001b[0m\n\u001b[1;32m----> 1\u001b[1;33m \u001b[0mcount_tuple\u001b[0m\u001b[1;33m[\u001b[0m\u001b[1;36m3\u001b[0m\u001b[1;33m]\u001b[0m \u001b[1;33m=\u001b[0m \u001b[1;36m4\u001b[0m\u001b[1;33m\u001b[0m\u001b[0m\n\u001b[0m",
      "\u001b[1;31mTypeError\u001b[0m: 'tuple' object does not support item assignment"
     ]
    }
   ],
   "source": [
    "count_tuple[3] = 4"
   ]
  },
  {
   "cell_type": "code",
   "execution_count": 31,
   "metadata": {},
   "outputs": [
    {
     "name": "stdout",
     "output_type": "stream",
     "text": [
      "<type 'tuple'>\n",
      "(1, 2, 3, 3)\n"
     ]
    }
   ],
   "source": [
    "type_print(count_tuple)"
   ]
  },
  {
   "cell_type": "markdown",
   "metadata": {},
   "source": [
    "Python tuples are a record type. This means that, unlike lists, tuples are non-modifiable, or *immutable*. They act as a constant and cannot be changed after they are created. \n",
    "\n",
    "This can be an issue if you are trying to update a value as we just attemped to above.\n",
    "\n",
    "That's why it is important to utilize lists and tuples properly as to not run into assignment issues."
   ]
  },
  {
   "cell_type": "markdown",
   "metadata": {},
   "source": [
    "## Use Cases"
   ]
  },
  {
   "cell_type": "code",
   "execution_count": 32,
   "metadata": {},
   "outputs": [
    {
     "name": "stdout",
     "output_type": "stream",
     "text": [
      "<type 'tuple'>\n",
      "(('pancakes', 5), ('waffles', 7), ('french toast', 10))\n",
      "<type 'list'>\n",
      "['apple', 'orange', 'banana', 'mango']\n",
      "<type 'list'>\n",
      "['peach', 'key-lime', 'cherry', 'banana', 'apple']\n"
     ]
    }
   ],
   "source": [
    "#Breakfest dinner setup\n",
    "breakfest = ((\"pancakes\", 5), (\"waffles\", 7), (\"french toast\", 10))\n",
    "\n",
    "type_print(breakfest)\n",
    "type_print(fruits)\n",
    "type_print(pies)"
   ]
  },
  {
   "cell_type": "markdown",
   "metadata": {},
   "source": [
    "To demonstrate lists, tuples, and their uses, lets open up a breakfest dinner. This dinner is rather simple with only three breakfest items that are always served. Each purchase comes with a side of fruit and slice of pie."
   ]
  },
  {
   "cell_type": "code",
   "execution_count": 33,
   "metadata": {},
   "outputs": [
    {
     "name": "stdout",
     "output_type": "stream",
     "text": [
      "<type 'tuple'>\n",
      "(('pancakes', 5), ('waffles', 7), ('french toast', 10))\n",
      "<type 'tuple'>\n",
      "('pancakes', 5)\n"
     ]
    }
   ],
   "source": [
    "type_print(breakfest)\n",
    "type_print(breakfest[0])"
   ]
  },
  {
   "cell_type": "markdown",
   "metadata": {},
   "source": [
    "As shown above the breakfest items are stored in nested tuples. The outer layer was chosen to be a tuple because the owner never plans on serving anything but pancakes, waffles, and french toast. It is a constant that will never change and that he doesnt want to accidentally change. The inner tuples hold the menu item and price pairs. A handy and expected use of tuples."
   ]
  },
  {
   "cell_type": "markdown",
   "metadata": {},
   "source": [
    "### IF statements"
   ]
  },
  {
   "cell_type": "code",
   "execution_count": 34,
   "metadata": {},
   "outputs": [
    {
     "name": "stdout",
     "output_type": "stream",
     "text": [
      "<type 'list'>\n",
      "['apple', 'orange', 'banana', 'mango']\n",
      "<type 'list'>\n",
      "['peach', 'key-lime', 'cherry', 'banana', 'apple']\n"
     ]
    }
   ],
   "source": [
    "type_print(fruits)\n",
    "type_print(pies)"
   ]
  },
  {
   "cell_type": "markdown",
   "metadata": {},
   "source": [
    "The fruits and pies, unlike the entrees, are stored in lists. Why is that?\n",
    "\n",
    "Well to keep prices constant, the owner of the dinner must update his fruit and pies menu with the ever changing market.\n",
    "\n",
    "Someday mangos might be too expensive, while raspberrys go on sale."
   ]
  },
  {
   "cell_type": "code",
   "execution_count": 35,
   "metadata": {},
   "outputs": [
    {
     "name": "stdout",
     "output_type": "stream",
     "text": [
      "['apple', 'banana', 'orange', 'raspberry']\n"
     ]
    }
   ],
   "source": [
    "if(\"mango\" in fruits):\n",
    "    fruits.remove(\"mango\")  \n",
    "if(\"raspberry\" not in fruits):\n",
    "    fruits.append(\"raspberry\")\n",
    "\n",
    "fruits.sort()\n",
    "print(fruits)"
   ]
  },
  {
   "cell_type": "markdown",
   "metadata": {},
   "source": [
    "Now we didn't just remove mango and add raspberry to the list. We performed a check to see if the items were in the list. This allows you to run that last python prompt over and over and over again without bringing up a value error."
   ]
  },
  {
   "cell_type": "markdown",
   "metadata": {},
   "source": [
    "### FOR LOOPS"
   ]
  },
  {
   "cell_type": "markdown",
   "metadata": {},
   "source": [
    "Our dinner owner has realised though that he can create pies our of whatever fruit he has avalible for that day, and we have to update the pies list accordingly."
   ]
  },
  {
   "cell_type": "code",
   "execution_count": 36,
   "metadata": {},
   "outputs": [
    {
     "name": "stdout",
     "output_type": "stream",
     "text": [
      "['apple', 'banana', 'orange', 'raspberry']\n",
      "['apple', 'banana', 'cherry', 'key-lime', 'orange', 'peach', 'raspberry']\n"
     ]
    }
   ],
   "source": [
    "for fruit in fruits:\n",
    "    if fruit not in pies:\n",
    "        pies.append(fruit)\n",
    "\n",
    "pies.sort()\n",
    "print(fruits)\n",
    "print(pies)"
   ]
  },
  {
   "cell_type": "markdown",
   "metadata": {},
   "source": [
    "This little code snippet utilizes for loops and the in operator to update the pies list without doubling up entries. It accomplishes this by checking if each fruit of fruits is *not in* the pies list. If that expression evaluates to true, than the pies list is appended."
   ]
  },
  {
   "cell_type": "markdown",
   "metadata": {},
   "source": [
    "We can do something similar with tuples when dealing with customers.\n",
    "Say a customer is trying to determine what menu items they can afford after coming into our dinner."
   ]
  },
  {
   "cell_type": "code",
   "execution_count": 37,
   "metadata": {},
   "outputs": [
    {
     "name": "stdout",
     "output_type": "stream",
     "text": [
      "('pancakes', 5)\n",
      "('waffles', 7)\n"
     ]
    }
   ],
   "source": [
    "customers_wallet = 8\n",
    "\n",
    "for item in breakfest:\n",
    "    if item[1] < customers_wallet:\n",
    "        print item"
   ]
  },
  {
   "cell_type": "markdown",
   "metadata": {},
   "source": [
    "Using a for loop, if statement, and tuple index, we were able to determine what menu items the customer can afford. This is done first by creating a reference to inner tuples within the breakfest tuple. Because we know that the inner tuples are formmated *item_name,price*, all we had to do was compare the *price* the how much money was in the customers_wallet. And we referenced the price by using an index to access the tuple data."
   ]
  },
  {
   "cell_type": "markdown",
   "metadata": {},
   "source": [
    "### Lambdas"
   ]
  },
  {
   "cell_type": "markdown",
   "metadata": {},
   "source": [
    "The owner of our dinner has one final modification he wants to make for consumer ease of use. Because he operates the dinner wholey by himself, he wants to make tallying up multiple items a breeze using Lambdas."
   ]
  },
  {
   "cell_type": "code",
   "execution_count": 38,
   "metadata": {},
   "outputs": [
    {
     "name": "stdout",
     "output_type": "stream",
     "text": [
      "15\n"
     ]
    }
   ],
   "source": [
    "bulk_order = lambda quantity,item: quantity * item[1]\n",
    "\n",
    "customer_bill = bulk_order(3,breakfest[0])\n",
    "\n",
    "print(customer_bill)"
   ]
  },
  {
   "cell_type": "markdown",
   "metadata": {},
   "source": [
    "Here we can see a lambda being utilized to calculate a bulk order of pancakes. It takes in the quantity and a menu item number. Here we can see the customer order 3 number 0 breakfests. The lambda does the heavy lifting the the owner can get back to flipping flap jacks."
   ]
  }
 ],
 "metadata": {
  "kernelspec": {
   "display_name": "Python 2",
   "language": "python",
   "name": "python2"
  },
  "language_info": {
   "codemirror_mode": {
    "name": "ipython",
    "version": 2
   },
   "file_extension": ".py",
   "mimetype": "text/x-python",
   "name": "python",
   "nbconvert_exporter": "python",
   "pygments_lexer": "ipython2",
   "version": "2.7.15"
  }
 },
 "nbformat": 4,
 "nbformat_minor": 2
}
