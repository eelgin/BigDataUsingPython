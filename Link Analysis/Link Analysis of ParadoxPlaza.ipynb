{
 "cells": [
  {
   "cell_type": "markdown",
   "metadata": {},
   "source": [
    "# Preface\n",
    "This assignment has a lot of wide matricies. For the best viewing experience, please run the code below to increase the notebook width to 100% of your browser width. This will make the HITS and PAGERANK matricies fully legible with increased precision."
   ]
  },
  {
   "cell_type": "code",
   "execution_count": 100,
   "metadata": {},
   "outputs": [
    {
     "data": {
      "text/html": [
       "<style>.container { width:100% !important; }</style>"
      ],
      "text/plain": [
       "<IPython.core.display.HTML object>"
      ]
     },
     "metadata": {},
     "output_type": "display_data"
    }
   ],
   "source": [
    "from IPython.core.display import display, HTML\n",
    "display(HTML(\"<style>.container { width:100% !important; }</style>\"))"
   ]
  },
  {
   "cell_type": "markdown",
   "metadata": {},
   "source": [
    "# 7.1 Creation of the crawler\n",
    "  \n",
    "I first decided to make the crawler items. Because I will have to use it to eventually create a stochastic matrix, I decided to hash all the links to make lookups fast and easy. I also decided to leave in the non-hashed version of the links to keep the data legable. The `num_of_links` makes the weighting computation easier.\n",
    "  \n",
    "  \n",
    "Also because scrapy hates me a refuses to work when I use their own generated spider templates, I am creating ^a custom ~~classes~~ ^dictionary template to hold my data and using the scrapy shell commands to populate them. Looks like its time to learn JSON."
   ]
  },
  {
   "cell_type": "code",
   "execution_count": 1,
   "metadata": {},
   "outputs": [],
   "source": [
    "#class paradoxItem(object):\n",
    "#    def __init__(self, base_link=None, outward_links=None,\n",
    "#                 num_of_links=None, base_link_hash=None, \n",
    "#                 outward_links_hashes=None):\n",
    "#        self.base_link = base_link\n",
    "#        self.outward_links = outward_links\n",
    "#        self.num_of_links = num_of_links\n",
    "#        self.base_link_hash = base_link_hash\n",
    "#        self.outward_links_hashes = outward_links_hashes\n",
    "\n",
    "def dict_format(base_link=None, outward_links=None,\n",
    "                num_of_links=None, base_link_hash=None, \n",
    "                outward_links_hashes=None):\n",
    "    return {\n",
    "                'base_link' : base_link,\n",
    "                'outward_links' : outward_links,\n",
    "                'num_of_links' : num_of_links,\n",
    "                'base_link_hash' : base_link_hash,\n",
    "                'outward_links_hashes' : outward_links_hashes\n",
    "        \n",
    "            }"
   ]
  },
  {
   "cell_type": "markdown",
   "metadata": {},
   "source": [
    "~~Class~~ Dictionary template created, lets create a ^master dictionary to store them. (More on why a dictionary later)"
   ]
  },
  {
   "cell_type": "code",
   "execution_count": 2,
   "metadata": {},
   "outputs": [],
   "source": [
    "pItems = {}"
   ]
  },
  {
   "cell_type": "markdown",
   "metadata": {},
   "source": [
    "Now lets choose a site and start experimenting with the scrapy shell commands to gather the data."
   ]
  },
  {
   "cell_type": "code",
   "execution_count": 3,
   "metadata": {},
   "outputs": [],
   "source": [
    "import requests\n",
    "import re\n",
    "from scrapy.http import TextResponse\n",
    "\n",
    "#running scrappy to get a response from a URL\n",
    "r = requests.get('https://www.paradoxplaza.com/')\n",
    "response = TextResponse(r.url, body=r.text, encoding='utf-8')"
   ]
  },
  {
   "cell_type": "code",
   "execution_count": 4,
   "metadata": {
    "scrolled": true
   },
   "outputs": [
    {
     "name": "stdout",
     "output_type": "stream",
     "text": [
      "https://www.paradoxplaza.com/account\n",
      "https://www.paradoxplaza.com/register\n",
      "https://www.paradoxplaza.com/\n",
      "https://www.paradoxplaza.com/account\n",
      "https://www.paradoxplaza.com/register\n",
      "https://www.paradoxplaza.com/browse/\n",
      "https://www.paradoxplaza.com/new-releases/\n",
      "https://www.paradoxplaza.com/coming-soon/\n",
      "https://www.paradoxplaza.com/on-sale/\n",
      "https://play.paradoxplaza.com\n",
      "https://forum.paradoxplaza.com/forum/index.php\n",
      "http://www.paradoxwikis.com\n",
      "https://www.paradoxplaza.com/support-static-info-ca.html\n",
      "http://merch.paradoxplaza.com/\n",
      "https://www.paradoxplaza.com/news\n",
      "https://www.paradoxplaza.com/about-us-static-info-ca.html\n",
      "http://career.paradoxplaza.com/\n",
      "https://www.paradoxplaza.com/playtest-static-info-ca.html\n",
      "https://www.paradoxplaza.com/press-static-info-ca.html\n",
      "https://www.facebook.com/ParadoxInteractive\n"
     ]
    }
   ],
   "source": [
    "for link in range(20):\n",
    "    print response.xpath('//li/a/@href')[link].extract()"
   ]
  },
  {
   "cell_type": "markdown",
   "metadata": {},
   "source": [
    "And there is 20 links right there. \n",
    "\n",
    "### EDIT: DETOUR 1, Validating URLs\n",
    "Further along, I realised that as I branched out more and more I eventually start getting links that are not valid urls. Like so..."
   ]
  },
  {
   "cell_type": "code",
   "execution_count": 5,
   "metadata": {},
   "outputs": [
    {
     "name": "stdout",
     "output_type": "stream",
     "text": [
      "/\n",
      "#\n",
      "https://www.paradoxplaza.com/games/\n",
      "http://forum.paradoxplaza.com/\n",
      "https://play.paradoxplaza.com/\n",
      "https://www.paradoxplaza.com/on-sale/\n",
      "http://merch.paradoxplaza.com/\n",
      "https://www.paradoxplaza.com/account?fromLoginUrl=true\n",
      "https://www.paradoxplaza.com/account\n",
      "https://www.paradoxplaza.com/register\n",
      "/browse/\n",
      "https://www.paradoxplaza.com/\n",
      "https://www.paradoxplaza.com/account\n",
      "https://www.paradoxplaza.com/register\n",
      "https://www.paradoxplaza.com/manage-cookies-page.html\n",
      "https://www.paradoxplaza.com/surviving-mars-space-race/SUSM01ESK0000063-MASTER.html\n",
      "/battletech---flashpoint/BTBT01ESK0000001-MASTER.html\n",
      "/battletech---flashpoint/BTBT01ESK0000001-MASTER.html\n",
      "/battletech---flashpoint/BTBT01ESK0000001-MASTER.html\n",
      "/battletech---flashpoint/BTBT01ESK0000001-MASTER.html\n"
     ]
    }
   ],
   "source": [
    "for link in range(20):\n",
    "    print response.xpath('//a/@href')[link].extract()"
   ]
  },
  {
   "cell_type": "markdown",
   "metadata": {},
   "source": [
    "Using `xpath('//li/a/@href')` instead of `xpath('//a/@href')` was a quick fix to filter out the garbage links on the homepage, but has comback to bite me in the ass with my `parse_links_beta()`[SPOILERS]. Eventually I run into some pages where some links are mearly url-extensions.\n",
    "  \n",
    "So lets spend some time fixing that..."
   ]
  },
  {
   "cell_type": "code",
   "execution_count": 6,
   "metadata": {},
   "outputs": [
    {
     "name": "stdout",
     "output_type": "stream",
     "text": [
      "https://www.paradoxplaza.com/games/\n",
      "http://forum.paradoxplaza.com/\n",
      "https://play.paradoxplaza.com/\n",
      "https://www.paradoxplaza.com/on-sale/\n",
      "http://merch.paradoxplaza.com/\n",
      "https://www.paradoxplaza.com/account?fromLoginUrl=true\n",
      "https://www.paradoxplaza.com/account\n",
      "https://www.paradoxplaza.com/register\n",
      "https://www.paradoxplaza.com/\n",
      "https://www.paradoxplaza.com/account\n",
      "https://www.paradoxplaza.com/register\n",
      "https://www.paradoxplaza.com/manage-cookies-page.html\n",
      "https://www.paradoxplaza.com/surviving-mars-space-race/SUSM01ESK0000063-MASTER.html\n",
      "Number of Valid Links: 13\n"
     ]
    }
   ],
   "source": [
    "num_of_valid_links = 0\n",
    "for link in range(20):\n",
    "    if(response.xpath('//a/@href')[link].extract().startswith('http')):\n",
    "        print response.xpath('//a/@href')[link].extract()\n",
    "        num_of_valid_links += 1\n",
    "        \n",
    "print \"Number of Valid Links: \"+str(num_of_valid_links)"
   ]
  },
  {
   "cell_type": "markdown",
   "metadata": {},
   "source": [
    "And done. One thing to note about this fix, it merely throws out bad links, but will still only search the first 20. This is why only 13 links are displayed\n",
    "\n",
    "### END DETOUR 1"
   ]
  },
  {
   "cell_type": "markdown",
   "metadata": {},
   "source": [
    "Lets experiment with pulling links from within links, setting a hard cap at ~~200 links,~~ 15 links per page with a max depth of 3.\n",
    "\n",
    "EDIT: for some reason my link counter was throwing off the recursion. Instead I will use the depth and links per page to determine the max links requested. \n",
    "  \n",
    "`Max_Links_Requested = links_per_page^(depth)`\n",
    "  \n",
    "Now this isnt the actual number of links I recieve, because all url-extensions and `'paradoxwiki'` links are discarded.\n",
    "  \n",
    "`Number_of_Links = links_per_page^(depth-1) - invalid_links`"
   ]
  },
  {
   "cell_type": "code",
   "execution_count": 7,
   "metadata": {},
   "outputs": [],
   "source": [
    "def min(a,b):\n",
    "    if(a < b):\n",
    "        return a\n",
    "    else:\n",
    "        return b"
   ]
  },
  {
   "cell_type": "code",
   "execution_count": 8,
   "metadata": {
    "scrolled": true
   },
   "outputs": [
    {
     "name": "stdout",
     "output_type": "stream",
     "text": [
      "https://www.paradoxplaza.com/\n",
      "\thttps://www.paradoxplaza.com/account\n",
      "\t\thttps://www.paradoxplaza.com/account\n",
      "\t\thttps://www.paradoxplaza.com/register\n",
      "\t\thttps://www.paradoxplaza.com/login?original=%2Faccount\n",
      "\t\thttps://www.paradoxplaza.com/account\n",
      "\t\thttps://www.paradoxplaza.com/register\n",
      "\t\thttps://www.paradoxplaza.com/browse/\n",
      "\t\thttps://www.paradoxplaza.com/new-releases/\n",
      "\t\thttps://www.paradoxplaza.com/coming-soon/\n",
      "\t\thttps://www.paradoxplaza.com/on-sale/\n",
      "\t\thttps://play.paradoxplaza.com\n",
      "\t\thttps://forum.paradoxplaza.com/forum/index.php\n",
      "\t\thttps://www.paradoxplaza.com/support-static-info-ca.html\n",
      "\t\thttp://merch.paradoxplaza.com/\n",
      "\t\thttps://www.paradoxplaza.com/news\n",
      "\t\thttps://www.paradoxplaza.com/about-us-static-info-ca.html\n",
      "\t\thttp://career.paradoxplaza.com/\n",
      "\t\thttps://www.paradoxplaza.com/playtest-static-info-ca.html\n",
      "\t\thttps://www.paradoxplaza.com/press-static-info-ca.html\n",
      "\t\thttps://www.facebook.com/ParadoxInteractive\n",
      "\thttps://www.paradoxplaza.com/register\n",
      "\t\thttps://www.paradoxplaza.com/account\n",
      "\t\thttps://www.paradoxplaza.com/register\n",
      "\t\thttps://www.paradoxplaza.com/register\n",
      "\t\thttps://www.paradoxplaza.com/account\n",
      "\t\thttps://www.paradoxplaza.com/register\n",
      "\t\thttps://www.paradoxplaza.com/browse/\n",
      "\t\thttps://www.paradoxplaza.com/new-releases/\n",
      "\t\thttps://www.paradoxplaza.com/coming-soon/\n",
      "\t\thttps://www.paradoxplaza.com/on-sale/\n",
      "\t\thttps://play.paradoxplaza.com\n",
      "\t\thttps://forum.paradoxplaza.com/forum/index.php\n",
      "\t\thttps://www.paradoxplaza.com/support-static-info-ca.html\n",
      "\t\thttp://merch.paradoxplaza.com/\n",
      "\t\thttps://www.paradoxplaza.com/news\n",
      "\t\thttps://www.paradoxplaza.com/about-us-static-info-ca.html\n",
      "\t\thttp://career.paradoxplaza.com/\n",
      "\t\thttps://www.paradoxplaza.com/playtest-static-info-ca.html\n",
      "\t\thttps://www.paradoxplaza.com/press-static-info-ca.html\n",
      "\t\thttps://www.facebook.com/ParadoxInteractive\n",
      "\thttps://www.paradoxplaza.com/\n",
      "\t\thttps://www.paradoxplaza.com/account\n",
      "\t\thttps://www.paradoxplaza.com/register\n",
      "\t\thttps://www.paradoxplaza.com/\n",
      "\t\thttps://www.paradoxplaza.com/account\n",
      "\t\thttps://www.paradoxplaza.com/register\n",
      "\t\thttps://www.paradoxplaza.com/browse/\n",
      "\t\thttps://www.paradoxplaza.com/new-releases/\n",
      "\t\thttps://www.paradoxplaza.com/coming-soon/\n",
      "\t\thttps://www.paradoxplaza.com/on-sale/\n",
      "\t\thttps://play.paradoxplaza.com\n",
      "\t\thttps://forum.paradoxplaza.com/forum/index.php\n",
      "\t\thttps://www.paradoxplaza.com/support-static-info-ca.html\n",
      "\t\thttp://merch.paradoxplaza.com/\n",
      "\t\thttps://www.paradoxplaza.com/news\n",
      "\t\thttps://www.paradoxplaza.com/about-us-static-info-ca.html\n",
      "\t\thttp://career.paradoxplaza.com/\n",
      "\t\thttps://www.paradoxplaza.com/playtest-static-info-ca.html\n",
      "\t\thttps://www.paradoxplaza.com/press-static-info-ca.html\n",
      "\t\thttps://www.facebook.com/ParadoxInteractive\n",
      "\thttps://www.paradoxplaza.com/account\n",
      "\t\thttps://www.paradoxplaza.com/account\n",
      "\t\thttps://www.paradoxplaza.com/register\n",
      "\t\thttps://www.paradoxplaza.com/login?original=%2Faccount\n",
      "\t\thttps://www.paradoxplaza.com/account\n",
      "\t\thttps://www.paradoxplaza.com/register\n",
      "\t\thttps://www.paradoxplaza.com/browse/\n",
      "\t\thttps://www.paradoxplaza.com/new-releases/\n",
      "\t\thttps://www.paradoxplaza.com/coming-soon/\n",
      "\t\thttps://www.paradoxplaza.com/on-sale/\n",
      "\t\thttps://play.paradoxplaza.com\n",
      "\t\thttps://forum.paradoxplaza.com/forum/index.php\n",
      "\t\thttps://www.paradoxplaza.com/support-static-info-ca.html\n",
      "\t\thttp://merch.paradoxplaza.com/\n",
      "\t\thttps://www.paradoxplaza.com/news\n",
      "\t\thttps://www.paradoxplaza.com/about-us-static-info-ca.html\n",
      "\t\thttp://career.paradoxplaza.com/\n",
      "\t\thttps://www.paradoxplaza.com/playtest-static-info-ca.html\n",
      "\t\thttps://www.paradoxplaza.com/press-static-info-ca.html\n",
      "\t\thttps://www.facebook.com/ParadoxInteractive\n",
      "\thttps://www.paradoxplaza.com/register\n",
      "\t\thttps://www.paradoxplaza.com/account\n",
      "\t\thttps://www.paradoxplaza.com/register\n",
      "\t\thttps://www.paradoxplaza.com/register\n",
      "\t\thttps://www.paradoxplaza.com/account\n",
      "\t\thttps://www.paradoxplaza.com/register\n",
      "\t\thttps://www.paradoxplaza.com/browse/\n",
      "\t\thttps://www.paradoxplaza.com/new-releases/\n",
      "\t\thttps://www.paradoxplaza.com/coming-soon/\n",
      "\t\thttps://www.paradoxplaza.com/on-sale/\n",
      "\t\thttps://play.paradoxplaza.com\n",
      "\t\thttps://forum.paradoxplaza.com/forum/index.php\n",
      "\t\thttps://www.paradoxplaza.com/support-static-info-ca.html\n",
      "\t\thttp://merch.paradoxplaza.com/\n",
      "\t\thttps://www.paradoxplaza.com/news\n",
      "\t\thttps://www.paradoxplaza.com/about-us-static-info-ca.html\n",
      "\t\thttp://career.paradoxplaza.com/\n",
      "\t\thttps://www.paradoxplaza.com/playtest-static-info-ca.html\n",
      "\t\thttps://www.paradoxplaza.com/press-static-info-ca.html\n",
      "\t\thttps://www.facebook.com/ParadoxInteractive\n",
      "\thttps://www.paradoxplaza.com/browse/\n",
      "\t\thttps://www.paradoxplaza.com/account\n",
      "\t\thttps://www.paradoxplaza.com/register\n",
      "\t\thttps://www.paradoxplaza.com/browse/\n",
      "\t\thttps://www.paradoxplaza.com/account\n",
      "\t\thttps://www.paradoxplaza.com/register\n",
      "\t\thttps://www.paradoxplaza.com/browse/?prefn1=pdx-OS-support&prefv1=01\n",
      "\t\thttps://www.paradoxplaza.com/browse/?prefn1=pdx-OS-support&prefv1=02\n",
      "\t\thttps://www.paradoxplaza.com/browse/?prefn1=pdx-OS-support&prefv1=03\n",
      "\t\thttps://www.paradoxplaza.com/browse/?prefn1=pdx-brand&prefv1=Age%20of%20Wonders\n",
      "\t\thttps://www.paradoxplaza.com/browse/?prefn1=pdx-brand&prefv1=Age%20of%20Wonders%3A%20Planetfall\n",
      "\t\thttps://www.paradoxplaza.com/browse/?prefn1=pdx-brand&prefv1=Battletech\n",
      "\t\thttps://www.paradoxplaza.com/browse/?prefn1=pdx-brand&prefv1=Cities%3A%20Skylines\n",
      "\t\thttps://www.paradoxplaza.com/browse/?prefn1=pdx-brand&prefv1=Cities%20in%20Motion\n",
      "\t\thttps://www.paradoxplaza.com/browse/?prefn1=pdx-brand&prefv1=Crusader%20Kings\n",
      "\t\thttps://www.paradoxplaza.com/browse/?prefn1=pdx-brand&prefv1=Europa%20Universalis\n",
      "\t\thttps://www.paradoxplaza.com/browse/?prefn1=pdx-brand&prefv1=Hearts%20of%20Iron\n",
      "\t\thttps://www.paradoxplaza.com/browse/?prefn1=pdx-brand&prefv1=Imperator%3A%20Rome\n",
      "\t\thttps://www.paradoxplaza.com/browse/?prefn1=pdx-brand&prefv1=Knights%20of%20Pen%20and%20Paper\n",
      "\t\thttps://www.paradoxplaza.com/browse/?prefn1=pdx-brand&prefv1=Magicka\n",
      "\t\thttps://www.paradoxplaza.com/browse/?prefn1=pdx-brand&prefv1=Other\n",
      "\thttps://www.paradoxplaza.com/new-releases/\n",
      "\t\thttps://www.paradoxplaza.com/account\n",
      "\t\thttps://www.paradoxplaza.com/register\n",
      "\t\thttps://www.paradoxplaza.com/new-releases/\n",
      "\t\thttps://www.paradoxplaza.com/account\n",
      "\t\thttps://www.paradoxplaza.com/register\n",
      "\t\thttps://www.paradoxplaza.com/new-releases/?prefn1=pdx-OS-support&prefv1=01\n",
      "\t\thttps://www.paradoxplaza.com/new-releases/?prefn1=pdx-OS-support&prefv1=02\n",
      "\t\thttps://www.paradoxplaza.com/new-releases/?prefn1=pdx-OS-support&prefv1=03\n",
      "\t\thttps://www.paradoxplaza.com/new-releases/?prefn1=pdx-brand&prefv1=Cities%3A%20Skylines\n",
      "\t\thttps://www.paradoxplaza.com/new-releases/?prefn1=pdx-brand&prefv1=Europa%20Universalis\n",
      "\t\thttps://www.paradoxplaza.com/new-releases/?prefn1=pdx-type&prefv1=dlc\n",
      "\t\thttps://www.paradoxplaza.com/new-releases/?prefn1=pdx-type&prefv1=expansion\n",
      "\t\thttps://www.paradoxplaza.com/new-releases/?prefn1=pdx-genres&prefv1=Grand%20Strategy\n",
      "\t\thttps://www.paradoxplaza.com/new-releases/?prefn1=pdx-genres&prefv1=Historical\n",
      "\t\thttps://www.paradoxplaza.com/new-releases/?prefn1=pdx-genres&prefv1=Real-Time%20Strategy\n",
      "\t\thttps://www.paradoxplaza.com/new-releases/?prefn1=pdx-genres&prefv1=Simulation\n",
      "\t\thttps://www.paradoxplaza.com/new-releases/?prefn1=pdx-plattform-support&prefv1=02\n",
      "\t\thttps://www.paradoxplaza.com/browse/\n",
      "\t\thttps://www.paradoxplaza.com/new-releases/\n",
      "\t\thttps://www.paradoxplaza.com/coming-soon/\n",
      "\thttps://www.paradoxplaza.com/coming-soon/\n",
      "\t\thttps://www.paradoxplaza.com/account\n",
      "\t\thttps://www.paradoxplaza.com/register\n",
      "\t\thttps://www.paradoxplaza.com/coming-soon/\n",
      "\t\thttps://www.paradoxplaza.com/account\n",
      "\t\thttps://www.paradoxplaza.com/register\n",
      "\t\thttps://www.paradoxplaza.com/coming-soon/?prefn1=pdx-OS-support&prefv1=01\n",
      "\t\thttps://www.paradoxplaza.com/coming-soon/?prefn1=pdx-OS-support&prefv1=02\n",
      "\t\thttps://www.paradoxplaza.com/coming-soon/?prefn1=pdx-OS-support&prefv1=03\n",
      "\t\thttps://www.paradoxplaza.com/coming-soon/?prefn1=pdx-brand&prefv1=Age%20of%20Wonders%3A%20Planetfall\n",
      "\t\thttps://www.paradoxplaza.com/coming-soon/?prefn1=pdx-brand&prefv1=Battletech\n",
      "\t\thttps://www.paradoxplaza.com/coming-soon/?prefn1=pdx-brand&prefv1=Crusader%20Kings\n",
      "\t\thttps://www.paradoxplaza.com/coming-soon/?prefn1=pdx-brand&prefv1=Hearts%20of%20Iron\n",
      "\t\thttps://www.paradoxplaza.com/coming-soon/?prefn1=pdx-brand&prefv1=Imperator%3A%20Rome\n",
      "\t\thttps://www.paradoxplaza.com/coming-soon/?prefn1=pdx-brand&prefv1=Stellaris\n",
      "\t\thttps://www.paradoxplaza.com/coming-soon/?prefn1=pdx-brand&prefv1=Surviving%20Mars\n"
     ]
    },
    {
     "name": "stdout",
     "output_type": "stream",
     "text": [
      "\t\thttps://www.paradoxplaza.com/coming-soon/?prefn1=pdx-type&prefv1=dlc\n",
      "\t\thttps://www.paradoxplaza.com/coming-soon/?prefn1=pdx-type&prefv1=expansion\n",
      "\t\thttps://www.paradoxplaza.com/coming-soon/?prefn1=pdx-type&prefv1=edition\n",
      "\t\thttps://www.paradoxplaza.com/coming-soon/?prefn1=pdx-genres&prefv1=Grand%20Strategy\n",
      "\t\thttps://www.paradoxplaza.com/coming-soon/?prefn1=pdx-genres&prefv1=Historical\n",
      "\thttps://www.paradoxplaza.com/on-sale/\n",
      "\t\thttps://www.paradoxplaza.com/account\n",
      "\t\thttps://www.paradoxplaza.com/register\n",
      "\t\thttps://www.paradoxplaza.com/on-sale/\n",
      "\t\thttps://www.paradoxplaza.com/account\n",
      "\t\thttps://www.paradoxplaza.com/register\n",
      "\t\thttps://www.paradoxplaza.com/on-sale/?sz=16&start=16\n",
      "\t\thttps://www.paradoxplaza.com/on-sale/?sz=16&start=32\n",
      "\t\thttps://www.paradoxplaza.com/browse/\n",
      "\t\thttps://www.paradoxplaza.com/new-releases/\n",
      "\t\thttps://www.paradoxplaza.com/coming-soon/\n",
      "\t\thttps://www.paradoxplaza.com/on-sale/\n",
      "\t\thttps://play.paradoxplaza.com\n",
      "\t\thttps://forum.paradoxplaza.com/forum/index.php\n",
      "\t\thttps://www.paradoxplaza.com/support-static-info-ca.html\n",
      "\t\thttp://merch.paradoxplaza.com/\n",
      "\t\thttps://www.paradoxplaza.com/news\n",
      "\t\thttps://www.paradoxplaza.com/about-us-static-info-ca.html\n",
      "\t\thttp://career.paradoxplaza.com/\n",
      "\t\thttps://www.paradoxplaza.com/playtest-static-info-ca.html\n",
      "\thttps://play.paradoxplaza.com\n",
      "\t\thttps://www.paradoxplaza.com\n",
      "\t\thttps://forum.paradoxplaza.com/forum/index.php\n",
      "\t\thttps://support.paradoxplaza.com\n",
      "\t\thttp://career.paradoxplaza.com/\n",
      "\t\thttp://www.paradoxplaza.com/about-us-static-info-ca.html\n",
      "\t\thttp://www.paradoxplaza.com/press-static-info-ca.html\n",
      "\t\thttps://accounts.paradoxplaza.com/profile/subscriptions\n",
      "\t\thttps://docs.google.com/forms/d/e/1FAIpQLSfuU4IQGbG6LhpaVpSXcP2STZGQoJlq1wASfA3pQD4LBexM9Q/viewform\n",
      "\t\thttps://www.facebook.com/ParadoxInteractive\n",
      "\t\thttps://twitter.com/PdxInteractive\n",
      "\t\thttp://www.youtube.com/user/Paradoxplaza\n",
      "\t\thttp://www.twitch.tv/paradoxinteractive\n",
      "\t\thttps://open.spotify.com/artist/75N2nC2KNgaQ1e6bGs0wyc\n",
      "\t\thttps://www.paradoxplaza.com/legal\n",
      "\t\thttps://www.paradoxplaza.com/faq\n",
      "\t\thttps://webgate.ec.europa.eu/odr/main/index.cfm?event=main.home.chooseLanguage\n",
      "\t\thttp://www.paradoxinteractive.com\n",
      "\thttps://forum.paradoxplaza.com/forum/index.php\n",
      "\thttps://www.paradoxplaza.com/support-static-info-ca.html\n",
      "\t\thttps://www.paradoxplaza.com/account\n",
      "\t\thttps://www.paradoxplaza.com/register\n",
      "\t\thttps://www.paradoxplaza.com/support-static-info-ca.html\n",
      "\t\thttps://www.paradoxplaza.com/account\n",
      "\t\thttps://www.paradoxplaza.com/register\n",
      "\thttp://merch.paradoxplaza.com/\n",
      "\t\thttps://merch.paradoxplaza.com/checkout/cart\n",
      "\t\thttps://merch.paradoxplaza.com/note\n",
      "\t\thttps://merch.paradoxplaza.com/account\n",
      "\t\thttps://merch.paradoxplaza.com/\n",
      "\t\thttps://merch.paradoxplaza.com/apparel/\n",
      "\t\thttps://merch.paradoxplaza.com/accessories/\n",
      "\t\thttps://merch.paradoxplaza.com/collectibles/\n",
      "\t\thttps://merch.paradoxplaza.com/games/\n",
      "\t\thttps://merch.paradoxplaza.com/apparel/\n",
      "\t\thttps://merch.paradoxplaza.com/accessories/\n",
      "\t\thttps://merch.paradoxplaza.com/collectibles/\n",
      "\t\thttps://merch.paradoxplaza.com/contact\n",
      "\t\thttps://merch.paradoxplaza.com/custom/index/sCustom/65\n",
      "\t\thttps://merch.paradoxplaza.com/imprint\n",
      "\t\thttps://merch.paradoxplaza.com/privacy-policy\n",
      "\t\thttps://merch.paradoxplaza.com/ticket/index/sFid/24\n",
      "\t\thttps://merch.paradoxplaza.com/shipping\n",
      "\thttps://www.paradoxplaza.com/news\n",
      "\t\thttps://www.paradoxplaza.com/account\n",
      "\t\thttps://www.paradoxplaza.com/register\n",
      "\t\thttps://www.paradoxplaza.com/news\n",
      "\t\thttps://www.paradoxplaza.com/account\n",
      "\t\thttps://www.paradoxplaza.com/register\n",
      "\t\thttps://www.youtube.com/user/Paradoxplaza\n",
      "\t\thttps://twitter.com/PdxInteractive\n",
      "\t\thttps://www.facebook.com/ParadoxInteractive\n",
      "\t\thttps://www.twitch.tv/paradoxinteractive\n",
      "\t\thttps://play.spotify.com/artist/75N2nC2KNgaQ1e6bGs0wyc\n",
      "\t\thttps://www.paradoxplaza.com/browse/\n",
      "\t\thttps://www.paradoxplaza.com/new-releases/\n",
      "\t\thttps://www.paradoxplaza.com/coming-soon/\n",
      "\t\thttps://www.paradoxplaza.com/on-sale/\n",
      "\t\thttps://play.paradoxplaza.com\n",
      "\t\thttps://forum.paradoxplaza.com/forum/index.php\n",
      "\t\thttps://www.paradoxplaza.com/support-static-info-ca.html\n",
      "\t\thttp://merch.paradoxplaza.com/\n",
      "\t\thttps://www.paradoxplaza.com/news\n",
      "\thttps://www.paradoxplaza.com/about-us-static-info-ca.html\n",
      "\t\thttps://www.paradoxplaza.com/account\n",
      "\t\thttps://www.paradoxplaza.com/register\n",
      "\t\thttps://www.paradoxplaza.com/about-us-static-info-ca.html\n",
      "\t\thttps://www.paradoxplaza.com/account\n",
      "\t\thttps://www.paradoxplaza.com/register\n",
      "\thttp://career.paradoxplaza.com/\n",
      "\thttps://www.paradoxplaza.com/playtest-static-info-ca.html\n",
      "\t\thttps://www.paradoxplaza.com/account\n",
      "\t\thttps://www.paradoxplaza.com/register\n",
      "\t\thttps://www.paradoxplaza.com/playtest-static-info-ca.html\n",
      "\t\thttps://www.paradoxplaza.com/account\n",
      "\t\thttps://www.paradoxplaza.com/register\n",
      "\thttps://www.paradoxplaza.com/press-static-info-ca.html\n",
      "\t\thttps://www.paradoxplaza.com/account\n",
      "\t\thttps://www.paradoxplaza.com/register\n",
      "\t\thttps://www.paradoxplaza.com/press-static-info-ca.html\n",
      "\t\thttps://www.paradoxplaza.com/account\n",
      "\t\thttps://www.paradoxplaza.com/register\n",
      "\thttps://www.facebook.com/ParadoxInteractive\n",
      "Number of Valid Links: 3882\n"
     ]
    }
   ],
   "source": [
    "#MAX_LINKS = 200\n",
    "MAX_PER_PAGE = 20\n",
    "MAX_DEPTH = 3\n",
    "num_of_valid_links = 0\n",
    "final_print = False\n",
    "\n",
    "def parse_links_alpha(url,depth):\n",
    "    global num_of_valid_links\n",
    "    global final_print\n",
    "    \n",
    "    if(depth == 3):\n",
    "        return;\n",
    "#    elif(num_of_links > MAX_LINKS):\n",
    "#        if(final_print == False):\n",
    "#            print \"Link Limit Reached\"\n",
    "#            final_print = True\n",
    "#        return\n",
    "    else:\n",
    "        print \"\\t\"*depth+url\n",
    "    \n",
    "    r = requests.get(url)\n",
    "    response = TextResponse(r.url, body=r.text, encoding='utf-8')\n",
    "    \n",
    "    num_of_links_on_page = len(response.xpath('//li/a/@href').extract())\n",
    "    \n",
    "    # sort through either the max number allowed, or the number of links avalible\n",
    "    for link in range(min(MAX_PER_PAGE,num_of_links_on_page)):\n",
    "        \n",
    "        # if the response starts with 'http' its not a short link and thus valid\n",
    "        # any 'https://paradoxwikis.com/' requests automatically crash the program\n",
    "        #  so all of them are to be ignored\n",
    "        if(response.xpath('//li/a/@href')[link].extract().startswith('http') and\n",
    "           'paradoxwikis' not in response.xpath('//li/a/@href')[link].extract()):\n",
    "            num_of_valid_links += 1\n",
    "            parse_links_alpha(response.xpath('//li/a/@href')[link].extract(),depth+1)\n",
    "    \n",
    "parse_links_alpha('https://www.paradoxplaza.com/',0)\n",
    "print \"Number of Valid Links: \"+str(num_of_valid_links)"
   ]
  },
  {
   "cell_type": "markdown",
   "metadata": {},
   "source": [
    "This works, but there is a lot of repetition. Let's utilize our custom ~~class~~ dictionary template to store crawled links. Then we will put them in a dictionary with the key being the base url hashed. This is the primary reason why I wanted to use the dictionary, to make hash lookups much easier. Might as well let the python do the heavy lifting for this one.\n",
    "\n",
    "*This code takes a while to chug along. I've been using a 3x7 (`MAX_DEPTH` of 3 and `MAX_PER_PAGE` of 20) which gives me a maxmum of 8000 links. In reality I get just under 3000 valid links, which are made up of only **47 unique links!!!** To stay near 200 total links, the proposed limit, use 4x4 or 5x3 which gives you 256 and 243 links respectively. I do not recommend this through because you will only get a handful of unique links that way*\n",
    "\n",
    "Edit: I changed the `MAX_PER_PAGE` to 15 in the code below because a 47 width matrix is too wide for juypter to display nicely even on full screen. So I downed it to a 3x15 which gives me 525 links of which 13 are unique."
   ]
  },
  {
   "cell_type": "code",
   "execution_count": 9,
   "metadata": {},
   "outputs": [],
   "source": [
    "import hashlib\n",
    "\n",
    "#MAX_LINKS = MAX_PER_PAGE^MAX_DEPTH\n",
    "MAX_DEPTH = 3\n",
    "MAX_PER_PAGE = 15\n",
    "num_of_valid_links = 0\n",
    "final_print = False\n",
    "\n",
    "pItems = {}\n",
    "\n",
    "def parse_links_beta(url,depth):\n",
    "    global num_of_valid_links\n",
    "    global pItems\n",
    "    \n",
    "    if(depth == MAX_DEPTH):\n",
    "        return;\n",
    "    else:\n",
    "        print \"\\t\"*depth+url\n",
    "    \n",
    "    r = requests.get(url)\n",
    "    response = TextResponse(r.url, body=r.text, encoding='utf-8')\n",
    "    \n",
    "    #building dict is non-recursive\n",
    "    base_link = url\n",
    "    \n",
    "    num_of_links_on_page = len(response.xpath('//li/a/@href').extract())\n",
    "    outward_links = []\n",
    "    # read either the max number allowed, or the number of links avalible\n",
    "    for link in range(min(MAX_PER_PAGE,num_of_links_on_page)):\n",
    "        if(response.xpath('//li/a/@href')[link].extract().startswith('http') and\n",
    "            'paradoxwikis' not in response.xpath('//li/a/@href')[link].extract()):\n",
    "            num_of_valid_links += 1\n",
    "            outward_links.append(response.xpath('//li/a/@href')[link].extract())\n",
    "    #print \"***\"\n",
    "    #print outward_links\n",
    "    \n",
    "    num_of_links = len(outward_links)\n",
    "    \n",
    "    tohash = url\n",
    "    hobject = hashlib.sha256(tohash.encode())\n",
    "    base_link_hash = str(hobject.hexdigest())\n",
    "    \n",
    "    i = 0\n",
    "    outward_links_hashes = []\n",
    "    for link in outward_links:\n",
    "        tohash = link\n",
    "        hobject = hashlib.sha256(tohash.encode())\n",
    "        outward_links_hashes.append(str(hobject.hexdigest()))\n",
    "        i += 1\n",
    "    \n",
    "    # if the base_link is already in our dict we move on\n",
    "    if (base_link_hash not in pItems):\n",
    "        pItems[base_link_hash] = dict_format(base_link, outward_links, num_of_links,\n",
    "                                             base_link_hash, outward_links_hashes)\n",
    "    \n",
    "        # if a link is new we note it\n",
    "        print(\"NEW LINK\\t\"+\n",
    "              \"Num of Dict Keys: \"+str(len(pItems.keys()))+\n",
    "              \"\\tNum of Links on Page: \"+str(num_of_links_on_page)+\n",
    "              \"\\tNum of Links Collected: \"+str(num_of_links))\n",
    "        \n",
    "        # if a link is new we parse it recursively\n",
    "        for link in pItems[base_link_hash]['outward_links']:\n",
    "            num_of_valid_links += 1\n",
    "            parse_links_beta(link,depth+1)\n",
    "        \n",
    "        #for link in range(min(MAX_PER_PAGE,num_of_links_on_page)):\n",
    "        \n",
    "            # if the response starts with 'http' its not a short link and thus valid\n",
    "            # any 'https://paradoxwikis.com/' requests automatically crash the program\n",
    "            #  so all of them are to be ignored\n",
    "            #if(response.xpath('//li/a/@href')[link].extract().startswith('http') and\n",
    "            #   'paradoxwikis' not in response.xpath('//li/a/@href')[link].extract()):\n",
    "            #    num_of_valid_links += 1\n",
    "            #    parse_links_beta(response.xpath('//li/a/@href')[link].extract(),depth+1)\n",
    "    "
   ]
  },
  {
   "cell_type": "code",
   "execution_count": 10,
   "metadata": {
    "scrolled": false
   },
   "outputs": [
    {
     "name": "stdout",
     "output_type": "stream",
     "text": [
      "https://www.paradoxplaza.com/\n",
      "NEW LINK\tNum of Dict Keys: 1\tNum of Links on Page: 35\tNum of Links Collected: 14\n",
      "\thttps://www.paradoxplaza.com/account\n",
      "NEW LINK\tNum of Dict Keys: 2\tNum of Links on Page: 35\tNum of Links Collected: 14\n",
      "\t\thttps://www.paradoxplaza.com/account\n",
      "\t\thttps://www.paradoxplaza.com/register\n",
      "NEW LINK\tNum of Dict Keys: 3\tNum of Links on Page: 35\tNum of Links Collected: 14\n",
      "\t\thttps://www.paradoxplaza.com/login?original=%2Faccount\n",
      "NEW LINK\tNum of Dict Keys: 4\tNum of Links on Page: 35\tNum of Links Collected: 14\n",
      "\t\thttps://www.paradoxplaza.com/account\n",
      "\t\thttps://www.paradoxplaza.com/register\n",
      "\t\thttps://www.paradoxplaza.com/browse/\n",
      "NEW LINK\tNum of Dict Keys: 5\tNum of Links on Page: 79\tNum of Links Collected: 15\n",
      "\t\thttps://www.paradoxplaza.com/new-releases/\n",
      "NEW LINK\tNum of Dict Keys: 6\tNum of Links on Page: 47\tNum of Links Collected: 15\n",
      "\t\thttps://www.paradoxplaza.com/coming-soon/\n",
      "NEW LINK\tNum of Dict Keys: 7\tNum of Links on Page: 57\tNum of Links Collected: 15\n",
      "\t\thttps://www.paradoxplaza.com/on-sale/\n",
      "NEW LINK\tNum of Dict Keys: 8\tNum of Links on Page: 37\tNum of Links Collected: 14\n",
      "\t\thttps://play.paradoxplaza.com\n",
      "NEW LINK\tNum of Dict Keys: 9\tNum of Links on Page: 18\tNum of Links Collected: 14\n",
      "\t\thttps://forum.paradoxplaza.com/forum/index.php\n",
      "NEW LINK\tNum of Dict Keys: 10\tNum of Links on Page: 1122\tNum of Links Collected: 0\n",
      "\t\thttps://www.paradoxplaza.com/support-static-info-ca.html\n",
      "NEW LINK\tNum of Dict Keys: 11\tNum of Links on Page: 53\tNum of Links Collected: 5\n",
      "\t\thttp://merch.paradoxplaza.com/\n",
      "NEW LINK\tNum of Dict Keys: 12\tNum of Links on Page: 40\tNum of Links Collected: 12\n",
      "\t\thttps://www.paradoxplaza.com/news\n",
      "NEW LINK\tNum of Dict Keys: 13\tNum of Links on Page: 40\tNum of Links Collected: 15\n",
      "\thttps://www.paradoxplaza.com/register\n",
      "\thttps://www.paradoxplaza.com/\n",
      "\thttps://www.paradoxplaza.com/account\n",
      "\thttps://www.paradoxplaza.com/register\n",
      "\thttps://www.paradoxplaza.com/browse/\n",
      "\thttps://www.paradoxplaza.com/new-releases/\n",
      "\thttps://www.paradoxplaza.com/coming-soon/\n",
      "\thttps://www.paradoxplaza.com/on-sale/\n",
      "\thttps://play.paradoxplaza.com\n",
      "\thttps://forum.paradoxplaza.com/forum/index.php\n",
      "\thttps://www.paradoxplaza.com/support-static-info-ca.html\n",
      "\thttp://merch.paradoxplaza.com/\n",
      "\thttps://www.paradoxplaza.com/news\n",
      "525\n",
      "{'b3daced18bd70d411e69d6ac5991f126e6edd7a45aa2e4232086cc44ce5b9458': {'outward_links': [u'https://www.paradoxplaza.com/account', u'https://www.paradoxplaza.com/register', u'https://www.paradoxplaza.com/coming-soon/', u'https://www.paradoxplaza.com/account', u'https://www.paradoxplaza.com/register', u'https://www.paradoxplaza.com/coming-soon/?prefn1=pdx-OS-support&prefv1=01', u'https://www.paradoxplaza.com/coming-soon/?prefn1=pdx-OS-support&prefv1=02', u'https://www.paradoxplaza.com/coming-soon/?prefn1=pdx-OS-support&prefv1=03', u'https://www.paradoxplaza.com/coming-soon/?prefn1=pdx-brand&prefv1=Age%20of%20Wonders%3A%20Planetfall', u'https://www.paradoxplaza.com/coming-soon/?prefn1=pdx-brand&prefv1=Battletech', u'https://www.paradoxplaza.com/coming-soon/?prefn1=pdx-brand&prefv1=Crusader%20Kings', u'https://www.paradoxplaza.com/coming-soon/?prefn1=pdx-brand&prefv1=Hearts%20of%20Iron', u'https://www.paradoxplaza.com/coming-soon/?prefn1=pdx-brand&prefv1=Imperator%3A%20Rome', u'https://www.paradoxplaza.com/coming-soon/?prefn1=pdx-brand&prefv1=Stellaris', u'https://www.paradoxplaza.com/coming-soon/?prefn1=pdx-brand&prefv1=Surviving%20Mars'], 'base_link': u'https://www.paradoxplaza.com/coming-soon/', 'outward_links_hashes': ['70bb6dfc807db2f9dde731c68e5888162c58b2240bcf813e5d3610e9ab8906fa', 'a85b6596e173675f06d95cc8c5ac97bc9e2b7349d8458aa97b441c5b061a47fb', 'b3daced18bd70d411e69d6ac5991f126e6edd7a45aa2e4232086cc44ce5b9458', '70bb6dfc807db2f9dde731c68e5888162c58b2240bcf813e5d3610e9ab8906fa', 'a85b6596e173675f06d95cc8c5ac97bc9e2b7349d8458aa97b441c5b061a47fb', '9a802e6e916775eff0077f6ec2afeca90b80ce305d33161df577afcca93b0d1b', '1f585e9bb27e416dd6def1b195d65594e332e48f9a8fa9e4e70a7808b29edfd4', '5dcfc7aa5108d7226e2acf6c0771378df0b2d408b72666d27564d440aaaa4ab3', '49c0536f054aeef24418540fd3f40c31ccec386bd23ab5aeaf3b0cb2950127a4', 'dc184ae44d636fd1fe9f52f4d7132308465bf99089d972d0cd9775b8bcb3ad2f', 'a07be6729bf76da84796f832b7918d8ad88b1116759af067cb43295d85ff6e11', '25ccdc8ef9beb085507f2c349b84c3f95e95f646a2e661584b3846948d31e9c4', '822f9169d97cdd72887379ba8873898d6acec74ea90f4875ce69a1c859530c57', '8e611ca8f20702212b79bead55feaa66045fa4a1b996b4b359640df2363cc597', '08a070e39a86726a96d50ca66973710ae0c3e2f46a3e96d7a4b5ae128c13e562'], 'num_of_links': 15, 'base_link_hash': 'b3daced18bd70d411e69d6ac5991f126e6edd7a45aa2e4232086cc44ce5b9458'}, '23775afde01959686aea395e860d2ffd2f7248880231d6b457bdf28d4d24ca72': {'outward_links': [u'https://www.paradoxplaza.com/account', u'https://www.paradoxplaza.com/register', u'https://www.paradoxplaza.com/login?original=%2Faccount', u'https://www.paradoxplaza.com/account', u'https://www.paradoxplaza.com/register', u'https://www.paradoxplaza.com/browse/', u'https://www.paradoxplaza.com/new-releases/', u'https://www.paradoxplaza.com/coming-soon/', u'https://www.paradoxplaza.com/on-sale/', u'https://play.paradoxplaza.com', u'https://forum.paradoxplaza.com/forum/index.php', u'https://www.paradoxplaza.com/support-static-info-ca.html', u'http://merch.paradoxplaza.com/', u'https://www.paradoxplaza.com/news'], 'base_link': u'https://www.paradoxplaza.com/login?original=%2Faccount', 'outward_links_hashes': ['70bb6dfc807db2f9dde731c68e5888162c58b2240bcf813e5d3610e9ab8906fa', 'a85b6596e173675f06d95cc8c5ac97bc9e2b7349d8458aa97b441c5b061a47fb', '23775afde01959686aea395e860d2ffd2f7248880231d6b457bdf28d4d24ca72', '70bb6dfc807db2f9dde731c68e5888162c58b2240bcf813e5d3610e9ab8906fa', 'a85b6596e173675f06d95cc8c5ac97bc9e2b7349d8458aa97b441c5b061a47fb', '04d382e5c249a809e079ffbd30f2085f6f192a4a5aec73c25eae00578501fdaf', '1574bdbe3a0f57032c265a153f15901a8e764e520eb3751df42fac44ebbd89ca', 'b3daced18bd70d411e69d6ac5991f126e6edd7a45aa2e4232086cc44ce5b9458', '8fc30263883e97fb26cfc52a784cf51914c4089dd8daa87753e874e5d0e56eb5', '87e920ba1197aebcd223aed0c3995f8c155bbf9a2b0bc655554759d32cd7c9c8', '268eb2b2f2101106849d05526ad63408a92ed2a0641476fda2f4aae66ec9a9a8', '88e70fdfc0d7351788e058c1c1bd6892e775053d1dc27072949819b23b7b2c1c', '9955e458fae57d8ab5df423292e741878e87ca641e68300dd967f722bf9c7f7e', 'fbaed0aada9d0509948144722a6747c21e668073de3bfe905dd7822c547fd717'], 'num_of_links': 14, 'base_link_hash': '23775afde01959686aea395e860d2ffd2f7248880231d6b457bdf28d4d24ca72'}, '88e70fdfc0d7351788e058c1c1bd6892e775053d1dc27072949819b23b7b2c1c': {'outward_links': [u'https://www.paradoxplaza.com/account', u'https://www.paradoxplaza.com/register', u'https://www.paradoxplaza.com/support-static-info-ca.html', u'https://www.paradoxplaza.com/account', u'https://www.paradoxplaza.com/register'], 'base_link': u'https://www.paradoxplaza.com/support-static-info-ca.html', 'outward_links_hashes': ['70bb6dfc807db2f9dde731c68e5888162c58b2240bcf813e5d3610e9ab8906fa', 'a85b6596e173675f06d95cc8c5ac97bc9e2b7349d8458aa97b441c5b061a47fb', '88e70fdfc0d7351788e058c1c1bd6892e775053d1dc27072949819b23b7b2c1c', '70bb6dfc807db2f9dde731c68e5888162c58b2240bcf813e5d3610e9ab8906fa', 'a85b6596e173675f06d95cc8c5ac97bc9e2b7349d8458aa97b441c5b061a47fb'], 'num_of_links': 5, 'base_link_hash': '88e70fdfc0d7351788e058c1c1bd6892e775053d1dc27072949819b23b7b2c1c'}, '1574bdbe3a0f57032c265a153f15901a8e764e520eb3751df42fac44ebbd89ca': {'outward_links': [u'https://www.paradoxplaza.com/account', u'https://www.paradoxplaza.com/register', u'https://www.paradoxplaza.com/new-releases/', u'https://www.paradoxplaza.com/account', u'https://www.paradoxplaza.com/register', u'https://www.paradoxplaza.com/new-releases/?prefn1=pdx-OS-support&prefv1=01', u'https://www.paradoxplaza.com/new-releases/?prefn1=pdx-OS-support&prefv1=02', u'https://www.paradoxplaza.com/new-releases/?prefn1=pdx-OS-support&prefv1=03', u'https://www.paradoxplaza.com/new-releases/?prefn1=pdx-brand&prefv1=Cities%3A%20Skylines', u'https://www.paradoxplaza.com/new-releases/?prefn1=pdx-brand&prefv1=Europa%20Universalis', u'https://www.paradoxplaza.com/new-releases/?prefn1=pdx-type&prefv1=dlc', u'https://www.paradoxplaza.com/new-releases/?prefn1=pdx-type&prefv1=expansion', u'https://www.paradoxplaza.com/new-releases/?prefn1=pdx-genres&prefv1=Grand%20Strategy', u'https://www.paradoxplaza.com/new-releases/?prefn1=pdx-genres&prefv1=Historical', u'https://www.paradoxplaza.com/new-releases/?prefn1=pdx-genres&prefv1=Real-Time%20Strategy'], 'base_link': u'https://www.paradoxplaza.com/new-releases/', 'outward_links_hashes': ['70bb6dfc807db2f9dde731c68e5888162c58b2240bcf813e5d3610e9ab8906fa', 'a85b6596e173675f06d95cc8c5ac97bc9e2b7349d8458aa97b441c5b061a47fb', '1574bdbe3a0f57032c265a153f15901a8e764e520eb3751df42fac44ebbd89ca', '70bb6dfc807db2f9dde731c68e5888162c58b2240bcf813e5d3610e9ab8906fa', 'a85b6596e173675f06d95cc8c5ac97bc9e2b7349d8458aa97b441c5b061a47fb', '043cc29e2e340fad98fe11392ea21addba1cc7235f71c1b20384ff5f9d60b6f1', '96f3de804f13b76935bb07f477c0dd6d3bc25c919b98a7dd2d58df3592c2cdf0', '39a112e9ee64b54f311d5819142ea16318215e9b100203286ad7fbe6cd535448', '3ac70d3274f7377829d54dd4ef10ec3aa0af539412524e0abaf0f473c7273f08', 'eaa0b0c2aceb90ca3b8cae0cc7e49f2c23a636d4be3712a51c215b04c3048602', '9ee0876e9cf3f9ed677c4c2e4923db1b9b4632d30918e7c7fd901498a5fffae5', '23353acc812838aa083b032dda10d6624918cf764f04706f937767159954167f', '4db024cd10722b7a93b889fee3cd5653909fe0f6e1f3c66a7add5c3a5fcb74eb', '9d5770232fa27e4d9ea939bbcb4d85f6bcf81f541d03af23565c915c4131215f', 'fc966c3731ac57f0b8f24bb11d6c45b01092bab241a1759fd3e338d4852178bf'], 'num_of_links': 15, 'base_link_hash': '1574bdbe3a0f57032c265a153f15901a8e764e520eb3751df42fac44ebbd89ca'}, '70bb6dfc807db2f9dde731c68e5888162c58b2240bcf813e5d3610e9ab8906fa': {'outward_links': [u'https://www.paradoxplaza.com/account', u'https://www.paradoxplaza.com/register', u'https://www.paradoxplaza.com/login?original=%2Faccount', u'https://www.paradoxplaza.com/account', u'https://www.paradoxplaza.com/register', u'https://www.paradoxplaza.com/browse/', u'https://www.paradoxplaza.com/new-releases/', u'https://www.paradoxplaza.com/coming-soon/', u'https://www.paradoxplaza.com/on-sale/', u'https://play.paradoxplaza.com', u'https://forum.paradoxplaza.com/forum/index.php', u'https://www.paradoxplaza.com/support-static-info-ca.html', u'http://merch.paradoxplaza.com/', u'https://www.paradoxplaza.com/news'], 'base_link': u'https://www.paradoxplaza.com/account', 'outward_links_hashes': ['70bb6dfc807db2f9dde731c68e5888162c58b2240bcf813e5d3610e9ab8906fa', 'a85b6596e173675f06d95cc8c5ac97bc9e2b7349d8458aa97b441c5b061a47fb', '23775afde01959686aea395e860d2ffd2f7248880231d6b457bdf28d4d24ca72', '70bb6dfc807db2f9dde731c68e5888162c58b2240bcf813e5d3610e9ab8906fa', 'a85b6596e173675f06d95cc8c5ac97bc9e2b7349d8458aa97b441c5b061a47fb', '04d382e5c249a809e079ffbd30f2085f6f192a4a5aec73c25eae00578501fdaf', '1574bdbe3a0f57032c265a153f15901a8e764e520eb3751df42fac44ebbd89ca', 'b3daced18bd70d411e69d6ac5991f126e6edd7a45aa2e4232086cc44ce5b9458', '8fc30263883e97fb26cfc52a784cf51914c4089dd8daa87753e874e5d0e56eb5', '87e920ba1197aebcd223aed0c3995f8c155bbf9a2b0bc655554759d32cd7c9c8', '268eb2b2f2101106849d05526ad63408a92ed2a0641476fda2f4aae66ec9a9a8', '88e70fdfc0d7351788e058c1c1bd6892e775053d1dc27072949819b23b7b2c1c', '9955e458fae57d8ab5df423292e741878e87ca641e68300dd967f722bf9c7f7e', 'fbaed0aada9d0509948144722a6747c21e668073de3bfe905dd7822c547fd717'], 'num_of_links': 14, 'base_link_hash': '70bb6dfc807db2f9dde731c68e5888162c58b2240bcf813e5d3610e9ab8906fa'}, '04d382e5c249a809e079ffbd30f2085f6f192a4a5aec73c25eae00578501fdaf': {'outward_links': [u'https://www.paradoxplaza.com/account', u'https://www.paradoxplaza.com/register', u'https://www.paradoxplaza.com/browse/', u'https://www.paradoxplaza.com/account', u'https://www.paradoxplaza.com/register', u'https://www.paradoxplaza.com/browse/?prefn1=pdx-OS-support&prefv1=01', u'https://www.paradoxplaza.com/browse/?prefn1=pdx-OS-support&prefv1=02', u'https://www.paradoxplaza.com/browse/?prefn1=pdx-OS-support&prefv1=03', u'https://www.paradoxplaza.com/browse/?prefn1=pdx-brand&prefv1=Age%20of%20Wonders', u'https://www.paradoxplaza.com/browse/?prefn1=pdx-brand&prefv1=Age%20of%20Wonders%3A%20Planetfall', u'https://www.paradoxplaza.com/browse/?prefn1=pdx-brand&prefv1=Battletech', u'https://www.paradoxplaza.com/browse/?prefn1=pdx-brand&prefv1=Cities%3A%20Skylines', u'https://www.paradoxplaza.com/browse/?prefn1=pdx-brand&prefv1=Cities%20in%20Motion', u'https://www.paradoxplaza.com/browse/?prefn1=pdx-brand&prefv1=Crusader%20Kings', u'https://www.paradoxplaza.com/browse/?prefn1=pdx-brand&prefv1=Europa%20Universalis'], 'base_link': u'https://www.paradoxplaza.com/browse/', 'outward_links_hashes': ['70bb6dfc807db2f9dde731c68e5888162c58b2240bcf813e5d3610e9ab8906fa', 'a85b6596e173675f06d95cc8c5ac97bc9e2b7349d8458aa97b441c5b061a47fb', '04d382e5c249a809e079ffbd30f2085f6f192a4a5aec73c25eae00578501fdaf', '70bb6dfc807db2f9dde731c68e5888162c58b2240bcf813e5d3610e9ab8906fa', 'a85b6596e173675f06d95cc8c5ac97bc9e2b7349d8458aa97b441c5b061a47fb', '8ae6bac3068220a002e65f7990bf4494025f032f01bc73eeff413c285c650226', 'e886c7ba34ebafda549ee0d70eef2b0a6c773d9d7cd60bde064467b82b4e3fba', '4b8ce37db7df55cddbe75db6f1eb86d34d256c9cf266ed21e8890a83caeeaef8', '46437ce5d4c8a163069c7bbcad8d6e8bc8403ac3f981d380a1136957f7049ef0', '0e02f7ea06d4dba7f070a1cb846c64c58d47f1bc4a7af423c58db49ca58a05d1', 'a4c6cc78d574344b7a92cbbce2e51216410ae60df9f7d7dc656514f8386eb197', '4fca0b1dae7cdb736352437454f274b3354a4cc71aadc962df3b810428203828', '281b3f95fb6ecff74be377054c2b0aa9f77cff4843cd0b0c18d8e5eb6343a487', '9bdf9f3298c5042817262fda86980634617e320294eb2e87d35450bd6d3cda16', '4c6edcea065ec00cd01458fe97d94b2728f10a23107a7d502bbce3686d7b9402'], 'num_of_links': 15, 'base_link_hash': '04d382e5c249a809e079ffbd30f2085f6f192a4a5aec73c25eae00578501fdaf'}, '268eb2b2f2101106849d05526ad63408a92ed2a0641476fda2f4aae66ec9a9a8': {'outward_links': [], 'base_link': u'https://forum.paradoxplaza.com/forum/index.php', 'outward_links_hashes': [], 'num_of_links': 0, 'base_link_hash': '268eb2b2f2101106849d05526ad63408a92ed2a0641476fda2f4aae66ec9a9a8'}, '02edaa08ae2883c05a75bd98bccf82ba0f7387b0b2e0c67e5d2d9e8920bf11e4': {'outward_links': [u'https://www.paradoxplaza.com/account', u'https://www.paradoxplaza.com/register', u'https://www.paradoxplaza.com/', u'https://www.paradoxplaza.com/account', u'https://www.paradoxplaza.com/register', u'https://www.paradoxplaza.com/browse/', u'https://www.paradoxplaza.com/new-releases/', u'https://www.paradoxplaza.com/coming-soon/', u'https://www.paradoxplaza.com/on-sale/', u'https://play.paradoxplaza.com', u'https://forum.paradoxplaza.com/forum/index.php', u'https://www.paradoxplaza.com/support-static-info-ca.html', u'http://merch.paradoxplaza.com/', u'https://www.paradoxplaza.com/news'], 'base_link': 'https://www.paradoxplaza.com/', 'outward_links_hashes': ['70bb6dfc807db2f9dde731c68e5888162c58b2240bcf813e5d3610e9ab8906fa', 'a85b6596e173675f06d95cc8c5ac97bc9e2b7349d8458aa97b441c5b061a47fb', '02edaa08ae2883c05a75bd98bccf82ba0f7387b0b2e0c67e5d2d9e8920bf11e4', '70bb6dfc807db2f9dde731c68e5888162c58b2240bcf813e5d3610e9ab8906fa', 'a85b6596e173675f06d95cc8c5ac97bc9e2b7349d8458aa97b441c5b061a47fb', '04d382e5c249a809e079ffbd30f2085f6f192a4a5aec73c25eae00578501fdaf', '1574bdbe3a0f57032c265a153f15901a8e764e520eb3751df42fac44ebbd89ca', 'b3daced18bd70d411e69d6ac5991f126e6edd7a45aa2e4232086cc44ce5b9458', '8fc30263883e97fb26cfc52a784cf51914c4089dd8daa87753e874e5d0e56eb5', '87e920ba1197aebcd223aed0c3995f8c155bbf9a2b0bc655554759d32cd7c9c8', '268eb2b2f2101106849d05526ad63408a92ed2a0641476fda2f4aae66ec9a9a8', '88e70fdfc0d7351788e058c1c1bd6892e775053d1dc27072949819b23b7b2c1c', '9955e458fae57d8ab5df423292e741878e87ca641e68300dd967f722bf9c7f7e', 'fbaed0aada9d0509948144722a6747c21e668073de3bfe905dd7822c547fd717'], 'num_of_links': 14, 'base_link_hash': '02edaa08ae2883c05a75bd98bccf82ba0f7387b0b2e0c67e5d2d9e8920bf11e4'}, '8fc30263883e97fb26cfc52a784cf51914c4089dd8daa87753e874e5d0e56eb5': {'outward_links': [u'https://www.paradoxplaza.com/account', u'https://www.paradoxplaza.com/register', u'https://www.paradoxplaza.com/on-sale/', u'https://www.paradoxplaza.com/account', u'https://www.paradoxplaza.com/register', u'https://www.paradoxplaza.com/on-sale/?sz=16&start=16', u'https://www.paradoxplaza.com/on-sale/?sz=16&start=32', u'https://www.paradoxplaza.com/browse/', u'https://www.paradoxplaza.com/new-releases/', u'https://www.paradoxplaza.com/coming-soon/', u'https://www.paradoxplaza.com/on-sale/', u'https://play.paradoxplaza.com', u'https://forum.paradoxplaza.com/forum/index.php', u'https://www.paradoxplaza.com/support-static-info-ca.html'], 'base_link': u'https://www.paradoxplaza.com/on-sale/', 'outward_links_hashes': ['70bb6dfc807db2f9dde731c68e5888162c58b2240bcf813e5d3610e9ab8906fa', 'a85b6596e173675f06d95cc8c5ac97bc9e2b7349d8458aa97b441c5b061a47fb', '8fc30263883e97fb26cfc52a784cf51914c4089dd8daa87753e874e5d0e56eb5', '70bb6dfc807db2f9dde731c68e5888162c58b2240bcf813e5d3610e9ab8906fa', 'a85b6596e173675f06d95cc8c5ac97bc9e2b7349d8458aa97b441c5b061a47fb', '6dc29a08c4cf19ff8f91b359507ac3772c7f21d569e030b513debf4d7fc795ee', '935de60c8dda95355bef616190d0d8194044c2fee7e802831b6b15d33efbba49', '04d382e5c249a809e079ffbd30f2085f6f192a4a5aec73c25eae00578501fdaf', '1574bdbe3a0f57032c265a153f15901a8e764e520eb3751df42fac44ebbd89ca', 'b3daced18bd70d411e69d6ac5991f126e6edd7a45aa2e4232086cc44ce5b9458', '8fc30263883e97fb26cfc52a784cf51914c4089dd8daa87753e874e5d0e56eb5', '87e920ba1197aebcd223aed0c3995f8c155bbf9a2b0bc655554759d32cd7c9c8', '268eb2b2f2101106849d05526ad63408a92ed2a0641476fda2f4aae66ec9a9a8', '88e70fdfc0d7351788e058c1c1bd6892e775053d1dc27072949819b23b7b2c1c'], 'num_of_links': 14, 'base_link_hash': '8fc30263883e97fb26cfc52a784cf51914c4089dd8daa87753e874e5d0e56eb5'}, '9955e458fae57d8ab5df423292e741878e87ca641e68300dd967f722bf9c7f7e': {'outward_links': [u'https://merch.paradoxplaza.com/checkout/cart', u'https://merch.paradoxplaza.com/note', u'https://merch.paradoxplaza.com/account', u'https://merch.paradoxplaza.com/', u'https://merch.paradoxplaza.com/apparel/', u'https://merch.paradoxplaza.com/accessories/', u'https://merch.paradoxplaza.com/collectibles/', u'https://merch.paradoxplaza.com/games/', u'https://merch.paradoxplaza.com/apparel/', u'https://merch.paradoxplaza.com/accessories/', u'https://merch.paradoxplaza.com/collectibles/', u'https://merch.paradoxplaza.com/contact'], 'base_link': u'http://merch.paradoxplaza.com/', 'outward_links_hashes': ['1eb98c9ea25ab2831d5a04a96ae9b5279facc2a2b794c1d336a273f5b3e3e1c1', '83de2def9b0ad916506e82344fe01abd064f122d9a76b2490ec7304214ee98c6', 'debd50975cc8f7bc50a713b497ee3b7f7c627507ae093716ab349f84eece41af', '7d12167b3f773f59394c286f2c820f72383b5c64611f84ddad58a4d9fa773ead', '2356027a78ac3cf17fe70fd8e00f68bff3deda7b343d538cc40ba325aea5fe28', '784a54d3678f59a372f0a3155215e2855b913569e21bb87512a02cd9ad0a2cac', 'bc61fe224008b6b1b17bb58f450457a76132fff1be62252b234fd0cd668a4a12', 'b2a80f768f720d992c839c6481f018eef0ee985f73b7b5d19cb5da8d058424c1', '2356027a78ac3cf17fe70fd8e00f68bff3deda7b343d538cc40ba325aea5fe28', '784a54d3678f59a372f0a3155215e2855b913569e21bb87512a02cd9ad0a2cac', 'bc61fe224008b6b1b17bb58f450457a76132fff1be62252b234fd0cd668a4a12', '37db69f6172ec54021921488a520a96aa0e75a53f408a86eb1ba6f00e8ceeac4'], 'num_of_links': 12, 'base_link_hash': '9955e458fae57d8ab5df423292e741878e87ca641e68300dd967f722bf9c7f7e'}, 'a85b6596e173675f06d95cc8c5ac97bc9e2b7349d8458aa97b441c5b061a47fb': {'outward_links': [u'https://www.paradoxplaza.com/account', u'https://www.paradoxplaza.com/register', u'https://www.paradoxplaza.com/register', u'https://www.paradoxplaza.com/account', u'https://www.paradoxplaza.com/register', u'https://www.paradoxplaza.com/browse/', u'https://www.paradoxplaza.com/new-releases/', u'https://www.paradoxplaza.com/coming-soon/', u'https://www.paradoxplaza.com/on-sale/', u'https://play.paradoxplaza.com', u'https://forum.paradoxplaza.com/forum/index.php', u'https://www.paradoxplaza.com/support-static-info-ca.html', u'http://merch.paradoxplaza.com/', u'https://www.paradoxplaza.com/news'], 'base_link': u'https://www.paradoxplaza.com/register', 'outward_links_hashes': ['70bb6dfc807db2f9dde731c68e5888162c58b2240bcf813e5d3610e9ab8906fa', 'a85b6596e173675f06d95cc8c5ac97bc9e2b7349d8458aa97b441c5b061a47fb', 'a85b6596e173675f06d95cc8c5ac97bc9e2b7349d8458aa97b441c5b061a47fb', '70bb6dfc807db2f9dde731c68e5888162c58b2240bcf813e5d3610e9ab8906fa', 'a85b6596e173675f06d95cc8c5ac97bc9e2b7349d8458aa97b441c5b061a47fb', '04d382e5c249a809e079ffbd30f2085f6f192a4a5aec73c25eae00578501fdaf', '1574bdbe3a0f57032c265a153f15901a8e764e520eb3751df42fac44ebbd89ca', 'b3daced18bd70d411e69d6ac5991f126e6edd7a45aa2e4232086cc44ce5b9458', '8fc30263883e97fb26cfc52a784cf51914c4089dd8daa87753e874e5d0e56eb5', '87e920ba1197aebcd223aed0c3995f8c155bbf9a2b0bc655554759d32cd7c9c8', '268eb2b2f2101106849d05526ad63408a92ed2a0641476fda2f4aae66ec9a9a8', '88e70fdfc0d7351788e058c1c1bd6892e775053d1dc27072949819b23b7b2c1c', '9955e458fae57d8ab5df423292e741878e87ca641e68300dd967f722bf9c7f7e', 'fbaed0aada9d0509948144722a6747c21e668073de3bfe905dd7822c547fd717'], 'num_of_links': 14, 'base_link_hash': 'a85b6596e173675f06d95cc8c5ac97bc9e2b7349d8458aa97b441c5b061a47fb'}, 'fbaed0aada9d0509948144722a6747c21e668073de3bfe905dd7822c547fd717': {'outward_links': [u'https://www.paradoxplaza.com/account', u'https://www.paradoxplaza.com/register', u'https://www.paradoxplaza.com/news', u'https://www.paradoxplaza.com/account', u'https://www.paradoxplaza.com/register', u'https://www.youtube.com/user/Paradoxplaza', u'https://twitter.com/PdxInteractive', u'https://www.facebook.com/ParadoxInteractive', u'https://www.twitch.tv/paradoxinteractive', u'https://play.spotify.com/artist/75N2nC2KNgaQ1e6bGs0wyc', u'https://www.paradoxplaza.com/browse/', u'https://www.paradoxplaza.com/new-releases/', u'https://www.paradoxplaza.com/coming-soon/', u'https://www.paradoxplaza.com/on-sale/', u'https://play.paradoxplaza.com'], 'base_link': u'https://www.paradoxplaza.com/news', 'outward_links_hashes': ['70bb6dfc807db2f9dde731c68e5888162c58b2240bcf813e5d3610e9ab8906fa', 'a85b6596e173675f06d95cc8c5ac97bc9e2b7349d8458aa97b441c5b061a47fb', 'fbaed0aada9d0509948144722a6747c21e668073de3bfe905dd7822c547fd717', '70bb6dfc807db2f9dde731c68e5888162c58b2240bcf813e5d3610e9ab8906fa', 'a85b6596e173675f06d95cc8c5ac97bc9e2b7349d8458aa97b441c5b061a47fb', 'f1981274f1bcbe01a75a3f9c9273349803856a5d41303c8e565b11a2a93dda6b', 'de38825dcf1b942f4b760e66cd3044b935de13a57873a260a54f5a7a595448fe', '9a3379dd9e3cc0a9ed082f849667cefdb9e1acc028b9c4403318b8ebe307bf8e', '5a7275a800ec32926e936f28ce69059ce78e749941412c70713daf64e7d3da07', '20b2e118ce6b5eebb002ac20baca6bdc7cae08ce55030f0a38767896cd96a949', '04d382e5c249a809e079ffbd30f2085f6f192a4a5aec73c25eae00578501fdaf', '1574bdbe3a0f57032c265a153f15901a8e764e520eb3751df42fac44ebbd89ca', 'b3daced18bd70d411e69d6ac5991f126e6edd7a45aa2e4232086cc44ce5b9458', '8fc30263883e97fb26cfc52a784cf51914c4089dd8daa87753e874e5d0e56eb5', '87e920ba1197aebcd223aed0c3995f8c155bbf9a2b0bc655554759d32cd7c9c8'], 'num_of_links': 15, 'base_link_hash': 'fbaed0aada9d0509948144722a6747c21e668073de3bfe905dd7822c547fd717'}, '87e920ba1197aebcd223aed0c3995f8c155bbf9a2b0bc655554759d32cd7c9c8': {'outward_links': [u'https://www.paradoxplaza.com', u'https://forum.paradoxplaza.com/forum/index.php', u'https://support.paradoxplaza.com', u'http://career.paradoxplaza.com/', u'http://www.paradoxplaza.com/about-us-static-info-ca.html', u'http://www.paradoxplaza.com/press-static-info-ca.html', u'https://accounts.paradoxplaza.com/profile/subscriptions', u'https://docs.google.com/forms/d/e/1FAIpQLSfuU4IQGbG6LhpaVpSXcP2STZGQoJlq1wASfA3pQD4LBexM9Q/viewform', u'https://www.facebook.com/ParadoxInteractive', u'https://twitter.com/PdxInteractive', u'http://www.youtube.com/user/Paradoxplaza', u'http://www.twitch.tv/paradoxinteractive', u'https://open.spotify.com/artist/75N2nC2KNgaQ1e6bGs0wyc', u'https://www.paradoxplaza.com/legal'], 'base_link': u'https://play.paradoxplaza.com', 'outward_links_hashes': ['4f11c57141ca0a22546a2a7ec3e1a87a39413b6a194757533070276f647870f7', '268eb2b2f2101106849d05526ad63408a92ed2a0641476fda2f4aae66ec9a9a8', '7dd22d13b956fb535913e0b1efc7635bd191479e3e07179bffd45256b739df36', '6741dd5ac4f8647f9fd409c7ea7e3f9ccd155a00c075763b3f4839b175ce5b8c', '40bf413bfeb43e2e1d4f0d60b4ea1480a8d3bd68990c43d114784621c6868002', 'e56dff770fd8f810567cff056d837e834cb5b85ce7c1ff2acc9c807f3167fe8b', 'cfffa7e2d1ea1eb796963960a8a194283b1d09354355d383ce2119f0db2556cf', 'cce133a7fca9fceb1759f907f2a88ee060d7cdcfd8aeeb596693b3a0edf65efc', '9a3379dd9e3cc0a9ed082f849667cefdb9e1acc028b9c4403318b8ebe307bf8e', 'de38825dcf1b942f4b760e66cd3044b935de13a57873a260a54f5a7a595448fe', '64f11b2eeb2a2d71aeb59a6afd87c66904b87d28ba589a5a106d7cdb8a98100b', '3d5aa6cf6cee80b54010918dd03cc9e2886e0a01089a90e2485467f9e3e659de', '70d4fe7d695cd1b30a9b4c38b2df78940b7261d4d3c8e06410e3a431ccc52838', '2a6c5889e52902ad2a5385c3eb933b2ef97b34d4a5fbad0f597b1cdfabceb78c'], 'num_of_links': 14, 'base_link_hash': '87e920ba1197aebcd223aed0c3995f8c155bbf9a2b0bc655554759d32cd7c9c8'}}\n"
     ]
    }
   ],
   "source": [
    "parse_links_beta('https://www.paradoxplaza.com/',0)\n",
    "print num_of_valid_links\n",
    "print pItems"
   ]
  },
  {
   "cell_type": "markdown",
   "metadata": {},
   "source": [
    "After running the code above the dictionary is populated with all of the link data. Now because python dictionaries are structured identically to JSON files, we will dump all of the collected data to a JSON file."
   ]
  },
  {
   "cell_type": "code",
   "execution_count": 13,
   "metadata": {
    "scrolled": true
   },
   "outputs": [
    {
     "name": "stdout",
     "output_type": "stream",
     "text": [
      "{'b3daced18bd70d411e69d6ac5991f126e6edd7a45aa2e4232086cc44ce5b9458': {'outward_links': [u'https://www.paradoxplaza.com/account', u'https://www.paradoxplaza.com/register', u'https://www.paradoxplaza.com/coming-soon/', u'https://www.paradoxplaza.com/account', u'https://www.paradoxplaza.com/register', u'https://www.paradoxplaza.com/coming-soon/?prefn1=pdx-OS-support&prefv1=01', u'https://www.paradoxplaza.com/coming-soon/?prefn1=pdx-OS-support&prefv1=02', u'https://www.paradoxplaza.com/coming-soon/?prefn1=pdx-OS-support&prefv1=03', u'https://www.paradoxplaza.com/coming-soon/?prefn1=pdx-brand&prefv1=Age%20of%20Wonders%3A%20Planetfall', u'https://www.paradoxplaza.com/coming-soon/?prefn1=pdx-brand&prefv1=Battletech', u'https://www.paradoxplaza.com/coming-soon/?prefn1=pdx-brand&prefv1=Crusader%20Kings', u'https://www.paradoxplaza.com/coming-soon/?prefn1=pdx-brand&prefv1=Hearts%20of%20Iron', u'https://www.paradoxplaza.com/coming-soon/?prefn1=pdx-brand&prefv1=Imperator%3A%20Rome', u'https://www.paradoxplaza.com/coming-soon/?prefn1=pdx-brand&prefv1=Stellaris', u'https://www.paradoxplaza.com/coming-soon/?prefn1=pdx-brand&prefv1=Surviving%20Mars'], 'base_link': u'https://www.paradoxplaza.com/coming-soon/', 'outward_links_hashes': ['70bb6dfc807db2f9dde731c68e5888162c58b2240bcf813e5d3610e9ab8906fa', 'a85b6596e173675f06d95cc8c5ac97bc9e2b7349d8458aa97b441c5b061a47fb', 'b3daced18bd70d411e69d6ac5991f126e6edd7a45aa2e4232086cc44ce5b9458', '70bb6dfc807db2f9dde731c68e5888162c58b2240bcf813e5d3610e9ab8906fa', 'a85b6596e173675f06d95cc8c5ac97bc9e2b7349d8458aa97b441c5b061a47fb', '9a802e6e916775eff0077f6ec2afeca90b80ce305d33161df577afcca93b0d1b', '1f585e9bb27e416dd6def1b195d65594e332e48f9a8fa9e4e70a7808b29edfd4', '5dcfc7aa5108d7226e2acf6c0771378df0b2d408b72666d27564d440aaaa4ab3', '49c0536f054aeef24418540fd3f40c31ccec386bd23ab5aeaf3b0cb2950127a4', 'dc184ae44d636fd1fe9f52f4d7132308465bf99089d972d0cd9775b8bcb3ad2f', 'a07be6729bf76da84796f832b7918d8ad88b1116759af067cb43295d85ff6e11', '25ccdc8ef9beb085507f2c349b84c3f95e95f646a2e661584b3846948d31e9c4', '822f9169d97cdd72887379ba8873898d6acec74ea90f4875ce69a1c859530c57', '8e611ca8f20702212b79bead55feaa66045fa4a1b996b4b359640df2363cc597', '08a070e39a86726a96d50ca66973710ae0c3e2f46a3e96d7a4b5ae128c13e562'], 'num_of_links': 15, 'base_link_hash': 'b3daced18bd70d411e69d6ac5991f126e6edd7a45aa2e4232086cc44ce5b9458'}, '23775afde01959686aea395e860d2ffd2f7248880231d6b457bdf28d4d24ca72': {'outward_links': [u'https://www.paradoxplaza.com/account', u'https://www.paradoxplaza.com/register', u'https://www.paradoxplaza.com/login?original=%2Faccount', u'https://www.paradoxplaza.com/account', u'https://www.paradoxplaza.com/register', u'https://www.paradoxplaza.com/browse/', u'https://www.paradoxplaza.com/new-releases/', u'https://www.paradoxplaza.com/coming-soon/', u'https://www.paradoxplaza.com/on-sale/', u'https://play.paradoxplaza.com', u'https://forum.paradoxplaza.com/forum/index.php', u'https://www.paradoxplaza.com/support-static-info-ca.html', u'http://merch.paradoxplaza.com/', u'https://www.paradoxplaza.com/news'], 'base_link': u'https://www.paradoxplaza.com/login?original=%2Faccount', 'outward_links_hashes': ['70bb6dfc807db2f9dde731c68e5888162c58b2240bcf813e5d3610e9ab8906fa', 'a85b6596e173675f06d95cc8c5ac97bc9e2b7349d8458aa97b441c5b061a47fb', '23775afde01959686aea395e860d2ffd2f7248880231d6b457bdf28d4d24ca72', '70bb6dfc807db2f9dde731c68e5888162c58b2240bcf813e5d3610e9ab8906fa', 'a85b6596e173675f06d95cc8c5ac97bc9e2b7349d8458aa97b441c5b061a47fb', '04d382e5c249a809e079ffbd30f2085f6f192a4a5aec73c25eae00578501fdaf', '1574bdbe3a0f57032c265a153f15901a8e764e520eb3751df42fac44ebbd89ca', 'b3daced18bd70d411e69d6ac5991f126e6edd7a45aa2e4232086cc44ce5b9458', '8fc30263883e97fb26cfc52a784cf51914c4089dd8daa87753e874e5d0e56eb5', '87e920ba1197aebcd223aed0c3995f8c155bbf9a2b0bc655554759d32cd7c9c8', '268eb2b2f2101106849d05526ad63408a92ed2a0641476fda2f4aae66ec9a9a8', '88e70fdfc0d7351788e058c1c1bd6892e775053d1dc27072949819b23b7b2c1c', '9955e458fae57d8ab5df423292e741878e87ca641e68300dd967f722bf9c7f7e', 'fbaed0aada9d0509948144722a6747c21e668073de3bfe905dd7822c547fd717'], 'num_of_links': 14, 'base_link_hash': '23775afde01959686aea395e860d2ffd2f7248880231d6b457bdf28d4d24ca72'}, '88e70fdfc0d7351788e058c1c1bd6892e775053d1dc27072949819b23b7b2c1c': {'outward_links': [u'https://www.paradoxplaza.com/account', u'https://www.paradoxplaza.com/register', u'https://www.paradoxplaza.com/support-static-info-ca.html', u'https://www.paradoxplaza.com/account', u'https://www.paradoxplaza.com/register'], 'base_link': u'https://www.paradoxplaza.com/support-static-info-ca.html', 'outward_links_hashes': ['70bb6dfc807db2f9dde731c68e5888162c58b2240bcf813e5d3610e9ab8906fa', 'a85b6596e173675f06d95cc8c5ac97bc9e2b7349d8458aa97b441c5b061a47fb', '88e70fdfc0d7351788e058c1c1bd6892e775053d1dc27072949819b23b7b2c1c', '70bb6dfc807db2f9dde731c68e5888162c58b2240bcf813e5d3610e9ab8906fa', 'a85b6596e173675f06d95cc8c5ac97bc9e2b7349d8458aa97b441c5b061a47fb'], 'num_of_links': 5, 'base_link_hash': '88e70fdfc0d7351788e058c1c1bd6892e775053d1dc27072949819b23b7b2c1c'}, '1574bdbe3a0f57032c265a153f15901a8e764e520eb3751df42fac44ebbd89ca': {'outward_links': [u'https://www.paradoxplaza.com/account', u'https://www.paradoxplaza.com/register', u'https://www.paradoxplaza.com/new-releases/', u'https://www.paradoxplaza.com/account', u'https://www.paradoxplaza.com/register', u'https://www.paradoxplaza.com/new-releases/?prefn1=pdx-OS-support&prefv1=01', u'https://www.paradoxplaza.com/new-releases/?prefn1=pdx-OS-support&prefv1=02', u'https://www.paradoxplaza.com/new-releases/?prefn1=pdx-OS-support&prefv1=03', u'https://www.paradoxplaza.com/new-releases/?prefn1=pdx-brand&prefv1=Cities%3A%20Skylines', u'https://www.paradoxplaza.com/new-releases/?prefn1=pdx-brand&prefv1=Europa%20Universalis', u'https://www.paradoxplaza.com/new-releases/?prefn1=pdx-type&prefv1=dlc', u'https://www.paradoxplaza.com/new-releases/?prefn1=pdx-type&prefv1=expansion', u'https://www.paradoxplaza.com/new-releases/?prefn1=pdx-genres&prefv1=Grand%20Strategy', u'https://www.paradoxplaza.com/new-releases/?prefn1=pdx-genres&prefv1=Historical', u'https://www.paradoxplaza.com/new-releases/?prefn1=pdx-genres&prefv1=Real-Time%20Strategy'], 'base_link': u'https://www.paradoxplaza.com/new-releases/', 'outward_links_hashes': ['70bb6dfc807db2f9dde731c68e5888162c58b2240bcf813e5d3610e9ab8906fa', 'a85b6596e173675f06d95cc8c5ac97bc9e2b7349d8458aa97b441c5b061a47fb', '1574bdbe3a0f57032c265a153f15901a8e764e520eb3751df42fac44ebbd89ca', '70bb6dfc807db2f9dde731c68e5888162c58b2240bcf813e5d3610e9ab8906fa', 'a85b6596e173675f06d95cc8c5ac97bc9e2b7349d8458aa97b441c5b061a47fb', '043cc29e2e340fad98fe11392ea21addba1cc7235f71c1b20384ff5f9d60b6f1', '96f3de804f13b76935bb07f477c0dd6d3bc25c919b98a7dd2d58df3592c2cdf0', '39a112e9ee64b54f311d5819142ea16318215e9b100203286ad7fbe6cd535448', '3ac70d3274f7377829d54dd4ef10ec3aa0af539412524e0abaf0f473c7273f08', 'eaa0b0c2aceb90ca3b8cae0cc7e49f2c23a636d4be3712a51c215b04c3048602', '9ee0876e9cf3f9ed677c4c2e4923db1b9b4632d30918e7c7fd901498a5fffae5', '23353acc812838aa083b032dda10d6624918cf764f04706f937767159954167f', '4db024cd10722b7a93b889fee3cd5653909fe0f6e1f3c66a7add5c3a5fcb74eb', '9d5770232fa27e4d9ea939bbcb4d85f6bcf81f541d03af23565c915c4131215f', 'fc966c3731ac57f0b8f24bb11d6c45b01092bab241a1759fd3e338d4852178bf'], 'num_of_links': 15, 'base_link_hash': '1574bdbe3a0f57032c265a153f15901a8e764e520eb3751df42fac44ebbd89ca'}, '70bb6dfc807db2f9dde731c68e5888162c58b2240bcf813e5d3610e9ab8906fa': {'outward_links': [u'https://www.paradoxplaza.com/account', u'https://www.paradoxplaza.com/register', u'https://www.paradoxplaza.com/login?original=%2Faccount', u'https://www.paradoxplaza.com/account', u'https://www.paradoxplaza.com/register', u'https://www.paradoxplaza.com/browse/', u'https://www.paradoxplaza.com/new-releases/', u'https://www.paradoxplaza.com/coming-soon/', u'https://www.paradoxplaza.com/on-sale/', u'https://play.paradoxplaza.com', u'https://forum.paradoxplaza.com/forum/index.php', u'https://www.paradoxplaza.com/support-static-info-ca.html', u'http://merch.paradoxplaza.com/', u'https://www.paradoxplaza.com/news'], 'base_link': u'https://www.paradoxplaza.com/account', 'outward_links_hashes': ['70bb6dfc807db2f9dde731c68e5888162c58b2240bcf813e5d3610e9ab8906fa', 'a85b6596e173675f06d95cc8c5ac97bc9e2b7349d8458aa97b441c5b061a47fb', '23775afde01959686aea395e860d2ffd2f7248880231d6b457bdf28d4d24ca72', '70bb6dfc807db2f9dde731c68e5888162c58b2240bcf813e5d3610e9ab8906fa', 'a85b6596e173675f06d95cc8c5ac97bc9e2b7349d8458aa97b441c5b061a47fb', '04d382e5c249a809e079ffbd30f2085f6f192a4a5aec73c25eae00578501fdaf', '1574bdbe3a0f57032c265a153f15901a8e764e520eb3751df42fac44ebbd89ca', 'b3daced18bd70d411e69d6ac5991f126e6edd7a45aa2e4232086cc44ce5b9458', '8fc30263883e97fb26cfc52a784cf51914c4089dd8daa87753e874e5d0e56eb5', '87e920ba1197aebcd223aed0c3995f8c155bbf9a2b0bc655554759d32cd7c9c8', '268eb2b2f2101106849d05526ad63408a92ed2a0641476fda2f4aae66ec9a9a8', '88e70fdfc0d7351788e058c1c1bd6892e775053d1dc27072949819b23b7b2c1c', '9955e458fae57d8ab5df423292e741878e87ca641e68300dd967f722bf9c7f7e', 'fbaed0aada9d0509948144722a6747c21e668073de3bfe905dd7822c547fd717'], 'num_of_links': 14, 'base_link_hash': '70bb6dfc807db2f9dde731c68e5888162c58b2240bcf813e5d3610e9ab8906fa'}, '04d382e5c249a809e079ffbd30f2085f6f192a4a5aec73c25eae00578501fdaf': {'outward_links': [u'https://www.paradoxplaza.com/account', u'https://www.paradoxplaza.com/register', u'https://www.paradoxplaza.com/browse/', u'https://www.paradoxplaza.com/account', u'https://www.paradoxplaza.com/register', u'https://www.paradoxplaza.com/browse/?prefn1=pdx-OS-support&prefv1=01', u'https://www.paradoxplaza.com/browse/?prefn1=pdx-OS-support&prefv1=02', u'https://www.paradoxplaza.com/browse/?prefn1=pdx-OS-support&prefv1=03', u'https://www.paradoxplaza.com/browse/?prefn1=pdx-brand&prefv1=Age%20of%20Wonders', u'https://www.paradoxplaza.com/browse/?prefn1=pdx-brand&prefv1=Age%20of%20Wonders%3A%20Planetfall', u'https://www.paradoxplaza.com/browse/?prefn1=pdx-brand&prefv1=Battletech', u'https://www.paradoxplaza.com/browse/?prefn1=pdx-brand&prefv1=Cities%3A%20Skylines', u'https://www.paradoxplaza.com/browse/?prefn1=pdx-brand&prefv1=Cities%20in%20Motion', u'https://www.paradoxplaza.com/browse/?prefn1=pdx-brand&prefv1=Crusader%20Kings', u'https://www.paradoxplaza.com/browse/?prefn1=pdx-brand&prefv1=Europa%20Universalis'], 'base_link': u'https://www.paradoxplaza.com/browse/', 'outward_links_hashes': ['70bb6dfc807db2f9dde731c68e5888162c58b2240bcf813e5d3610e9ab8906fa', 'a85b6596e173675f06d95cc8c5ac97bc9e2b7349d8458aa97b441c5b061a47fb', '04d382e5c249a809e079ffbd30f2085f6f192a4a5aec73c25eae00578501fdaf', '70bb6dfc807db2f9dde731c68e5888162c58b2240bcf813e5d3610e9ab8906fa', 'a85b6596e173675f06d95cc8c5ac97bc9e2b7349d8458aa97b441c5b061a47fb', '8ae6bac3068220a002e65f7990bf4494025f032f01bc73eeff413c285c650226', 'e886c7ba34ebafda549ee0d70eef2b0a6c773d9d7cd60bde064467b82b4e3fba', '4b8ce37db7df55cddbe75db6f1eb86d34d256c9cf266ed21e8890a83caeeaef8', '46437ce5d4c8a163069c7bbcad8d6e8bc8403ac3f981d380a1136957f7049ef0', '0e02f7ea06d4dba7f070a1cb846c64c58d47f1bc4a7af423c58db49ca58a05d1', 'a4c6cc78d574344b7a92cbbce2e51216410ae60df9f7d7dc656514f8386eb197', '4fca0b1dae7cdb736352437454f274b3354a4cc71aadc962df3b810428203828', '281b3f95fb6ecff74be377054c2b0aa9f77cff4843cd0b0c18d8e5eb6343a487', '9bdf9f3298c5042817262fda86980634617e320294eb2e87d35450bd6d3cda16', '4c6edcea065ec00cd01458fe97d94b2728f10a23107a7d502bbce3686d7b9402'], 'num_of_links': 15, 'base_link_hash': '04d382e5c249a809e079ffbd30f2085f6f192a4a5aec73c25eae00578501fdaf'}, '268eb2b2f2101106849d05526ad63408a92ed2a0641476fda2f4aae66ec9a9a8': {'outward_links': [], 'base_link': u'https://forum.paradoxplaza.com/forum/index.php', 'outward_links_hashes': [], 'num_of_links': 0, 'base_link_hash': '268eb2b2f2101106849d05526ad63408a92ed2a0641476fda2f4aae66ec9a9a8'}, '02edaa08ae2883c05a75bd98bccf82ba0f7387b0b2e0c67e5d2d9e8920bf11e4': {'outward_links': [u'https://www.paradoxplaza.com/account', u'https://www.paradoxplaza.com/register', u'https://www.paradoxplaza.com/', u'https://www.paradoxplaza.com/account', u'https://www.paradoxplaza.com/register', u'https://www.paradoxplaza.com/browse/', u'https://www.paradoxplaza.com/new-releases/', u'https://www.paradoxplaza.com/coming-soon/', u'https://www.paradoxplaza.com/on-sale/', u'https://play.paradoxplaza.com', u'https://forum.paradoxplaza.com/forum/index.php', u'https://www.paradoxplaza.com/support-static-info-ca.html', u'http://merch.paradoxplaza.com/', u'https://www.paradoxplaza.com/news'], 'base_link': 'https://www.paradoxplaza.com/', 'outward_links_hashes': ['70bb6dfc807db2f9dde731c68e5888162c58b2240bcf813e5d3610e9ab8906fa', 'a85b6596e173675f06d95cc8c5ac97bc9e2b7349d8458aa97b441c5b061a47fb', '02edaa08ae2883c05a75bd98bccf82ba0f7387b0b2e0c67e5d2d9e8920bf11e4', '70bb6dfc807db2f9dde731c68e5888162c58b2240bcf813e5d3610e9ab8906fa', 'a85b6596e173675f06d95cc8c5ac97bc9e2b7349d8458aa97b441c5b061a47fb', '04d382e5c249a809e079ffbd30f2085f6f192a4a5aec73c25eae00578501fdaf', '1574bdbe3a0f57032c265a153f15901a8e764e520eb3751df42fac44ebbd89ca', 'b3daced18bd70d411e69d6ac5991f126e6edd7a45aa2e4232086cc44ce5b9458', '8fc30263883e97fb26cfc52a784cf51914c4089dd8daa87753e874e5d0e56eb5', '87e920ba1197aebcd223aed0c3995f8c155bbf9a2b0bc655554759d32cd7c9c8', '268eb2b2f2101106849d05526ad63408a92ed2a0641476fda2f4aae66ec9a9a8', '88e70fdfc0d7351788e058c1c1bd6892e775053d1dc27072949819b23b7b2c1c', '9955e458fae57d8ab5df423292e741878e87ca641e68300dd967f722bf9c7f7e', 'fbaed0aada9d0509948144722a6747c21e668073de3bfe905dd7822c547fd717'], 'num_of_links': 14, 'base_link_hash': '02edaa08ae2883c05a75bd98bccf82ba0f7387b0b2e0c67e5d2d9e8920bf11e4'}, '8fc30263883e97fb26cfc52a784cf51914c4089dd8daa87753e874e5d0e56eb5': {'outward_links': [u'https://www.paradoxplaza.com/account', u'https://www.paradoxplaza.com/register', u'https://www.paradoxplaza.com/on-sale/', u'https://www.paradoxplaza.com/account', u'https://www.paradoxplaza.com/register', u'https://www.paradoxplaza.com/on-sale/?sz=16&start=16', u'https://www.paradoxplaza.com/on-sale/?sz=16&start=32', u'https://www.paradoxplaza.com/browse/', u'https://www.paradoxplaza.com/new-releases/', u'https://www.paradoxplaza.com/coming-soon/', u'https://www.paradoxplaza.com/on-sale/', u'https://play.paradoxplaza.com', u'https://forum.paradoxplaza.com/forum/index.php', u'https://www.paradoxplaza.com/support-static-info-ca.html'], 'base_link': u'https://www.paradoxplaza.com/on-sale/', 'outward_links_hashes': ['70bb6dfc807db2f9dde731c68e5888162c58b2240bcf813e5d3610e9ab8906fa', 'a85b6596e173675f06d95cc8c5ac97bc9e2b7349d8458aa97b441c5b061a47fb', '8fc30263883e97fb26cfc52a784cf51914c4089dd8daa87753e874e5d0e56eb5', '70bb6dfc807db2f9dde731c68e5888162c58b2240bcf813e5d3610e9ab8906fa', 'a85b6596e173675f06d95cc8c5ac97bc9e2b7349d8458aa97b441c5b061a47fb', '6dc29a08c4cf19ff8f91b359507ac3772c7f21d569e030b513debf4d7fc795ee', '935de60c8dda95355bef616190d0d8194044c2fee7e802831b6b15d33efbba49', '04d382e5c249a809e079ffbd30f2085f6f192a4a5aec73c25eae00578501fdaf', '1574bdbe3a0f57032c265a153f15901a8e764e520eb3751df42fac44ebbd89ca', 'b3daced18bd70d411e69d6ac5991f126e6edd7a45aa2e4232086cc44ce5b9458', '8fc30263883e97fb26cfc52a784cf51914c4089dd8daa87753e874e5d0e56eb5', '87e920ba1197aebcd223aed0c3995f8c155bbf9a2b0bc655554759d32cd7c9c8', '268eb2b2f2101106849d05526ad63408a92ed2a0641476fda2f4aae66ec9a9a8', '88e70fdfc0d7351788e058c1c1bd6892e775053d1dc27072949819b23b7b2c1c'], 'num_of_links': 14, 'base_link_hash': '8fc30263883e97fb26cfc52a784cf51914c4089dd8daa87753e874e5d0e56eb5'}, '9955e458fae57d8ab5df423292e741878e87ca641e68300dd967f722bf9c7f7e': {'outward_links': [u'https://merch.paradoxplaza.com/checkout/cart', u'https://merch.paradoxplaza.com/note', u'https://merch.paradoxplaza.com/account', u'https://merch.paradoxplaza.com/', u'https://merch.paradoxplaza.com/apparel/', u'https://merch.paradoxplaza.com/accessories/', u'https://merch.paradoxplaza.com/collectibles/', u'https://merch.paradoxplaza.com/games/', u'https://merch.paradoxplaza.com/apparel/', u'https://merch.paradoxplaza.com/accessories/', u'https://merch.paradoxplaza.com/collectibles/', u'https://merch.paradoxplaza.com/contact'], 'base_link': u'http://merch.paradoxplaza.com/', 'outward_links_hashes': ['1eb98c9ea25ab2831d5a04a96ae9b5279facc2a2b794c1d336a273f5b3e3e1c1', '83de2def9b0ad916506e82344fe01abd064f122d9a76b2490ec7304214ee98c6', 'debd50975cc8f7bc50a713b497ee3b7f7c627507ae093716ab349f84eece41af', '7d12167b3f773f59394c286f2c820f72383b5c64611f84ddad58a4d9fa773ead', '2356027a78ac3cf17fe70fd8e00f68bff3deda7b343d538cc40ba325aea5fe28', '784a54d3678f59a372f0a3155215e2855b913569e21bb87512a02cd9ad0a2cac', 'bc61fe224008b6b1b17bb58f450457a76132fff1be62252b234fd0cd668a4a12', 'b2a80f768f720d992c839c6481f018eef0ee985f73b7b5d19cb5da8d058424c1', '2356027a78ac3cf17fe70fd8e00f68bff3deda7b343d538cc40ba325aea5fe28', '784a54d3678f59a372f0a3155215e2855b913569e21bb87512a02cd9ad0a2cac', 'bc61fe224008b6b1b17bb58f450457a76132fff1be62252b234fd0cd668a4a12', '37db69f6172ec54021921488a520a96aa0e75a53f408a86eb1ba6f00e8ceeac4'], 'num_of_links': 12, 'base_link_hash': '9955e458fae57d8ab5df423292e741878e87ca641e68300dd967f722bf9c7f7e'}, 'a85b6596e173675f06d95cc8c5ac97bc9e2b7349d8458aa97b441c5b061a47fb': {'outward_links': [u'https://www.paradoxplaza.com/account', u'https://www.paradoxplaza.com/register', u'https://www.paradoxplaza.com/register', u'https://www.paradoxplaza.com/account', u'https://www.paradoxplaza.com/register', u'https://www.paradoxplaza.com/browse/', u'https://www.paradoxplaza.com/new-releases/', u'https://www.paradoxplaza.com/coming-soon/', u'https://www.paradoxplaza.com/on-sale/', u'https://play.paradoxplaza.com', u'https://forum.paradoxplaza.com/forum/index.php', u'https://www.paradoxplaza.com/support-static-info-ca.html', u'http://merch.paradoxplaza.com/', u'https://www.paradoxplaza.com/news'], 'base_link': u'https://www.paradoxplaza.com/register', 'outward_links_hashes': ['70bb6dfc807db2f9dde731c68e5888162c58b2240bcf813e5d3610e9ab8906fa', 'a85b6596e173675f06d95cc8c5ac97bc9e2b7349d8458aa97b441c5b061a47fb', 'a85b6596e173675f06d95cc8c5ac97bc9e2b7349d8458aa97b441c5b061a47fb', '70bb6dfc807db2f9dde731c68e5888162c58b2240bcf813e5d3610e9ab8906fa', 'a85b6596e173675f06d95cc8c5ac97bc9e2b7349d8458aa97b441c5b061a47fb', '04d382e5c249a809e079ffbd30f2085f6f192a4a5aec73c25eae00578501fdaf', '1574bdbe3a0f57032c265a153f15901a8e764e520eb3751df42fac44ebbd89ca', 'b3daced18bd70d411e69d6ac5991f126e6edd7a45aa2e4232086cc44ce5b9458', '8fc30263883e97fb26cfc52a784cf51914c4089dd8daa87753e874e5d0e56eb5', '87e920ba1197aebcd223aed0c3995f8c155bbf9a2b0bc655554759d32cd7c9c8', '268eb2b2f2101106849d05526ad63408a92ed2a0641476fda2f4aae66ec9a9a8', '88e70fdfc0d7351788e058c1c1bd6892e775053d1dc27072949819b23b7b2c1c', '9955e458fae57d8ab5df423292e741878e87ca641e68300dd967f722bf9c7f7e', 'fbaed0aada9d0509948144722a6747c21e668073de3bfe905dd7822c547fd717'], 'num_of_links': 14, 'base_link_hash': 'a85b6596e173675f06d95cc8c5ac97bc9e2b7349d8458aa97b441c5b061a47fb'}, 'fbaed0aada9d0509948144722a6747c21e668073de3bfe905dd7822c547fd717': {'outward_links': [u'https://www.paradoxplaza.com/account', u'https://www.paradoxplaza.com/register', u'https://www.paradoxplaza.com/news', u'https://www.paradoxplaza.com/account', u'https://www.paradoxplaza.com/register', u'https://www.youtube.com/user/Paradoxplaza', u'https://twitter.com/PdxInteractive', u'https://www.facebook.com/ParadoxInteractive', u'https://www.twitch.tv/paradoxinteractive', u'https://play.spotify.com/artist/75N2nC2KNgaQ1e6bGs0wyc', u'https://www.paradoxplaza.com/browse/', u'https://www.paradoxplaza.com/new-releases/', u'https://www.paradoxplaza.com/coming-soon/', u'https://www.paradoxplaza.com/on-sale/', u'https://play.paradoxplaza.com'], 'base_link': u'https://www.paradoxplaza.com/news', 'outward_links_hashes': ['70bb6dfc807db2f9dde731c68e5888162c58b2240bcf813e5d3610e9ab8906fa', 'a85b6596e173675f06d95cc8c5ac97bc9e2b7349d8458aa97b441c5b061a47fb', 'fbaed0aada9d0509948144722a6747c21e668073de3bfe905dd7822c547fd717', '70bb6dfc807db2f9dde731c68e5888162c58b2240bcf813e5d3610e9ab8906fa', 'a85b6596e173675f06d95cc8c5ac97bc9e2b7349d8458aa97b441c5b061a47fb', 'f1981274f1bcbe01a75a3f9c9273349803856a5d41303c8e565b11a2a93dda6b', 'de38825dcf1b942f4b760e66cd3044b935de13a57873a260a54f5a7a595448fe', '9a3379dd9e3cc0a9ed082f849667cefdb9e1acc028b9c4403318b8ebe307bf8e', '5a7275a800ec32926e936f28ce69059ce78e749941412c70713daf64e7d3da07', '20b2e118ce6b5eebb002ac20baca6bdc7cae08ce55030f0a38767896cd96a949', '04d382e5c249a809e079ffbd30f2085f6f192a4a5aec73c25eae00578501fdaf', '1574bdbe3a0f57032c265a153f15901a8e764e520eb3751df42fac44ebbd89ca', 'b3daced18bd70d411e69d6ac5991f126e6edd7a45aa2e4232086cc44ce5b9458', '8fc30263883e97fb26cfc52a784cf51914c4089dd8daa87753e874e5d0e56eb5', '87e920ba1197aebcd223aed0c3995f8c155bbf9a2b0bc655554759d32cd7c9c8'], 'num_of_links': 15, 'base_link_hash': 'fbaed0aada9d0509948144722a6747c21e668073de3bfe905dd7822c547fd717'}, '87e920ba1197aebcd223aed0c3995f8c155bbf9a2b0bc655554759d32cd7c9c8': {'outward_links': [u'https://www.paradoxplaza.com', u'https://forum.paradoxplaza.com/forum/index.php', u'https://support.paradoxplaza.com', u'http://career.paradoxplaza.com/', u'http://www.paradoxplaza.com/about-us-static-info-ca.html', u'http://www.paradoxplaza.com/press-static-info-ca.html', u'https://accounts.paradoxplaza.com/profile/subscriptions', u'https://docs.google.com/forms/d/e/1FAIpQLSfuU4IQGbG6LhpaVpSXcP2STZGQoJlq1wASfA3pQD4LBexM9Q/viewform', u'https://www.facebook.com/ParadoxInteractive', u'https://twitter.com/PdxInteractive', u'http://www.youtube.com/user/Paradoxplaza', u'http://www.twitch.tv/paradoxinteractive', u'https://open.spotify.com/artist/75N2nC2KNgaQ1e6bGs0wyc', u'https://www.paradoxplaza.com/legal'], 'base_link': u'https://play.paradoxplaza.com', 'outward_links_hashes': ['4f11c57141ca0a22546a2a7ec3e1a87a39413b6a194757533070276f647870f7', '268eb2b2f2101106849d05526ad63408a92ed2a0641476fda2f4aae66ec9a9a8', '7dd22d13b956fb535913e0b1efc7635bd191479e3e07179bffd45256b739df36', '6741dd5ac4f8647f9fd409c7ea7e3f9ccd155a00c075763b3f4839b175ce5b8c', '40bf413bfeb43e2e1d4f0d60b4ea1480a8d3bd68990c43d114784621c6868002', 'e56dff770fd8f810567cff056d837e834cb5b85ce7c1ff2acc9c807f3167fe8b', 'cfffa7e2d1ea1eb796963960a8a194283b1d09354355d383ce2119f0db2556cf', 'cce133a7fca9fceb1759f907f2a88ee060d7cdcfd8aeeb596693b3a0edf65efc', '9a3379dd9e3cc0a9ed082f849667cefdb9e1acc028b9c4403318b8ebe307bf8e', 'de38825dcf1b942f4b760e66cd3044b935de13a57873a260a54f5a7a595448fe', '64f11b2eeb2a2d71aeb59a6afd87c66904b87d28ba589a5a106d7cdb8a98100b', '3d5aa6cf6cee80b54010918dd03cc9e2886e0a01089a90e2485467f9e3e659de', '70d4fe7d695cd1b30a9b4c38b2df78940b7261d4d3c8e06410e3a431ccc52838', '2a6c5889e52902ad2a5385c3eb933b2ef97b34d4a5fbad0f597b1cdfabceb78c'], 'num_of_links': 14, 'base_link_hash': '87e920ba1197aebcd223aed0c3995f8c155bbf9a2b0bc655554759d32cd7c9c8'}}\n"
     ]
    }
   ],
   "source": [
    "import json\n",
    "print pItems\n",
    "with open('data.json', 'w') as outfile:\n",
    "    json.dump(pItems, outfile)"
   ]
  },
  {
   "cell_type": "markdown",
   "metadata": {},
   "source": [
    "I highly recommend you open up the json generated from this function. It's quite comprehensive and is about 128kB. While it is rather huge, its very readable and searchable. I reccommend a json prettyfier through (I use the Atom editor with the pretty-json package)."
   ]
  },
  {
   "cell_type": "markdown",
   "metadata": {},
   "source": [
    "# 7.2 Generating the Stochastic matrix\n",
    "Creating this matrix should be algorithmically light. Because I am using a dictionary and can only iterate by key, I am going to create a new dict which assosiates the keys with index numbers to make programming the matrix easier.\n",
    "\n",
    "Edit: I'm kind of losing focus, but cant figure out a way around having a dict for having the index as keys and the hashes as keys without modifying my base dictionary."
   ]
  },
  {
   "cell_type": "code",
   "execution_count": 14,
   "metadata": {},
   "outputs": [
    {
     "name": "stdout",
     "output_type": "stream",
     "text": [
      "{0: 'b3daced18bd70d411e69d6ac5991f126e6edd7a45aa2e4232086cc44ce5b9458', 1: '23775afde01959686aea395e860d2ffd2f7248880231d6b457bdf28d4d24ca72', 2: '88e70fdfc0d7351788e058c1c1bd6892e775053d1dc27072949819b23b7b2c1c', 3: '1574bdbe3a0f57032c265a153f15901a8e764e520eb3751df42fac44ebbd89ca', 4: '70bb6dfc807db2f9dde731c68e5888162c58b2240bcf813e5d3610e9ab8906fa', 5: '04d382e5c249a809e079ffbd30f2085f6f192a4a5aec73c25eae00578501fdaf', 6: '268eb2b2f2101106849d05526ad63408a92ed2a0641476fda2f4aae66ec9a9a8', 7: '02edaa08ae2883c05a75bd98bccf82ba0f7387b0b2e0c67e5d2d9e8920bf11e4', 8: '8fc30263883e97fb26cfc52a784cf51914c4089dd8daa87753e874e5d0e56eb5', 9: '9955e458fae57d8ab5df423292e741878e87ca641e68300dd967f722bf9c7f7e', 10: 'a85b6596e173675f06d95cc8c5ac97bc9e2b7349d8458aa97b441c5b061a47fb', 11: 'fbaed0aada9d0509948144722a6747c21e668073de3bfe905dd7822c547fd717', 12: '87e920ba1197aebcd223aed0c3995f8c155bbf9a2b0bc655554759d32cd7c9c8'}\n",
      "{'b3daced18bd70d411e69d6ac5991f126e6edd7a45aa2e4232086cc44ce5b9458': 0, '23775afde01959686aea395e860d2ffd2f7248880231d6b457bdf28d4d24ca72': 1, '8fc30263883e97fb26cfc52a784cf51914c4089dd8daa87753e874e5d0e56eb5': 8, '88e70fdfc0d7351788e058c1c1bd6892e775053d1dc27072949819b23b7b2c1c': 2, '1574bdbe3a0f57032c265a153f15901a8e764e520eb3751df42fac44ebbd89ca': 3, '70bb6dfc807db2f9dde731c68e5888162c58b2240bcf813e5d3610e9ab8906fa': 4, '04d382e5c249a809e079ffbd30f2085f6f192a4a5aec73c25eae00578501fdaf': 5, '02edaa08ae2883c05a75bd98bccf82ba0f7387b0b2e0c67e5d2d9e8920bf11e4': 7, '268eb2b2f2101106849d05526ad63408a92ed2a0641476fda2f4aae66ec9a9a8': 6, 'a85b6596e173675f06d95cc8c5ac97bc9e2b7349d8458aa97b441c5b061a47fb': 10, '9955e458fae57d8ab5df423292e741878e87ca641e68300dd967f722bf9c7f7e': 9, 'fbaed0aada9d0509948144722a6747c21e668073de3bfe905dd7822c547fd717': 11, '87e920ba1197aebcd223aed0c3995f8c155bbf9a2b0bc655554759d32cd7c9c8': 12}\n"
     ]
    }
   ],
   "source": [
    "#pass hash get index\n",
    "refHash = {}\n",
    "#pass index get hash\n",
    "refIndex = {}\n",
    "index = 0\n",
    "for key in pItems:\n",
    "    refHash[key] = index\n",
    "    index += 1\n",
    "    \n",
    "refIndex = {v: k for k, v in refHash.iteritems()} \n",
    "    \n",
    "print refIndex\n",
    "print refHash"
   ]
  },
  {
   "cell_type": "code",
   "execution_count": 101,
   "metadata": {},
   "outputs": [
    {
     "name": "stdout",
     "output_type": "stream",
     "text": [
      "0.00 0.00 0.00 0.00 0.00 0.00 0.00 0.00 0.00 0.00 0.00 0.00 0.00  https://www.paradoxplaza.com/coming-soon/\n",
      "0.00 0.00 0.00 0.00 0.00 0.00 0.00 0.00 0.00 0.00 0.00 0.00 0.00  https://www.paradoxplaza.com/login?original=%2Faccount\n",
      "0.00 0.00 0.00 0.00 0.00 0.00 0.00 0.00 0.00 0.00 0.00 0.00 0.00  https://www.paradoxplaza.com/support-static-info-ca.html\n",
      "0.00 0.00 0.00 0.00 0.00 0.00 0.00 0.00 0.00 0.00 0.00 0.00 0.00  https://www.paradoxplaza.com/new-releases/\n",
      "0.00 0.00 0.00 0.00 0.00 0.00 0.00 0.00 0.00 0.00 0.00 0.00 0.00  https://www.paradoxplaza.com/account\n",
      "0.00 0.00 0.00 0.00 0.00 0.00 0.00 0.00 0.00 0.00 0.00 0.00 0.00  https://www.paradoxplaza.com/browse/\n",
      "0.00 0.00 0.00 0.00 0.00 0.00 0.00 0.00 0.00 0.00 0.00 0.00 0.00  https://forum.paradoxplaza.com/forum/index.php\n",
      "0.00 0.00 0.00 0.00 0.00 0.00 0.00 0.00 0.00 0.00 0.00 0.00 0.00  https://www.paradoxplaza.com/\n",
      "0.00 0.00 0.00 0.00 0.00 0.00 0.00 0.00 0.00 0.00 0.00 0.00 0.00  https://www.paradoxplaza.com/on-sale/\n",
      "0.00 0.00 0.00 0.00 0.00 0.00 0.00 0.00 0.00 0.00 0.00 0.00 0.00  http://merch.paradoxplaza.com/\n",
      "0.00 0.00 0.00 0.00 0.00 0.00 0.00 0.00 0.00 0.00 0.00 0.00 0.00  https://www.paradoxplaza.com/register\n",
      "0.00 0.00 0.00 0.00 0.00 0.00 0.00 0.00 0.00 0.00 0.00 0.00 0.00  https://www.paradoxplaza.com/news\n",
      "0.00 0.00 0.00 0.00 0.00 0.00 0.00 0.00 0.00 0.00 0.00 0.00 0.00  https://play.paradoxplaza.com\n"
     ]
    }
   ],
   "source": [
    "#initializing the stochastic matrix\n",
    "uniq_links = len(pItems)\n",
    "sto_matrix = [[0 for col in range(uniq_links)] for row in range(uniq_links)]\n",
    "\n",
    "#creating print function\n",
    "def print_sto(extended=False):\n",
    "    for row in range(uniq_links):\n",
    "        for col in range(uniq_links):\n",
    "            print \"{:1.4f}\".format(sto_matrix[row][col]) if extended else \"{:1.2f}\".format(sto_matrix[row][col]),\n",
    "            \n",
    "        print \"\" if extended else ' '+pItems[refIndex[row]]['base_link'] \n",
    "\n",
    "print_sto()"
   ]
  },
  {
   "cell_type": "markdown",
   "metadata": {},
   "source": [
    "Because my dictionary does not count how many times a link is referenced, rather just puts a copy of the URL within the outward_links array, I will calculate each matrix value by dividing the number_of_links by one and adding the weights to the matrix values whenever I come upon their hash."
   ]
  },
  {
   "cell_type": "code",
   "execution_count": 102,
   "metadata": {},
   "outputs": [
    {
     "name": "stdout",
     "output_type": "stream",
     "text": [
      "Number of Outward Links not accounted for: 62\n"
     ]
    }
   ],
   "source": [
    "def calc_sto():\n",
    "    key_err_cnt = 0\n",
    "    for row in range(uniq_links):\n",
    "        key = refIndex[row]\n",
    "        num_of_links = pItems[key]['num_of_links']\n",
    "        weight = 0 if num_of_links == 0 else (1.0 / num_of_links)\n",
    "        \n",
    "        for links in pItems[key]['outward_links_hashes']:\n",
    "            try:\n",
    "                col = refHash[links]\n",
    "            except KeyError, e:\n",
    "                #print 'I got a KeyError - reason \"%s\"' % str(e)\n",
    "                key_err_cnt += 1\n",
    "                continue     \n",
    "            sto_matrix[row][col] += weight\n",
    "            \n",
    "    print \"Number of Outward Links not accounted for: \"+str(key_err_cnt)\n",
    "    \n",
    "calc_sto()"
   ]
  },
  {
   "cell_type": "markdown",
   "metadata": {},
   "source": [
    "Now I've realised I did not add unique outward links to my dictionary because I never investigated them with my crawler, they were at the edge of my set depth. Now there are two ways I can fix this.   \n",
    "\n",
    "1) *I can go back, redo my recusive crawler and have it not stop digging deeper until it hits all known links.  *\n",
    "This would probubly go terribly and my crawler would get stuck finding every link on the website even if I refined the allowed URLS.  \n",
    "\n",
    "2) *I can choose to exclude the links that are at the edges of my defined depth.*  \n",
    "This should be fine as you can easily deduce how many links were not incuded on the stocastic matrix because the rows will no longer add up to one. I will choose this route for now and hope that it doesn't come to bite me when I start diving deeper into HITS and the page rank algorithms.\n",
    "\n",
    "Lets see what our stochastic matrix looks like now."
   ]
  },
  {
   "cell_type": "code",
   "execution_count": 138,
   "metadata": {},
   "outputs": [
    {
     "name": "stdout",
     "output_type": "stream",
     "text": [
      "0.07 0.00 0.00 0.00 0.13 0.00 0.00 0.00 0.00 0.00 0.13 0.00 0.00  https://www.paradoxplaza.com/coming-soon/\n",
      "0.07 0.07 0.07 0.07 0.14 0.07 0.07 0.00 0.07 0.07 0.14 0.07 0.07  https://www.paradoxplaza.com/login?original=%2Faccount\n",
      "0.00 0.00 0.20 0.00 0.40 0.00 0.00 0.00 0.00 0.00 0.40 0.00 0.00  https://www.paradoxplaza.com/support-static-info-ca.html\n",
      "0.00 0.00 0.00 0.07 0.13 0.00 0.00 0.00 0.00 0.00 0.13 0.00 0.00  https://www.paradoxplaza.com/new-releases/\n",
      "0.07 0.07 0.07 0.07 0.14 0.07 0.07 0.00 0.07 0.07 0.14 0.07 0.07  https://www.paradoxplaza.com/account\n",
      "0.00 0.00 0.00 0.00 0.13 0.07 0.00 0.00 0.00 0.00 0.13 0.00 0.00  https://www.paradoxplaza.com/browse/\n",
      "0.00 0.00 0.00 0.00 0.00 0.00 0.00 0.00 0.00 0.00 0.00 0.00 0.00  https://forum.paradoxplaza.com/forum/index.php\n",
      "0.07 0.00 0.07 0.07 0.14 0.07 0.07 0.07 0.07 0.07 0.14 0.07 0.07  https://www.paradoxplaza.com/\n",
      "0.07 0.00 0.07 0.07 0.14 0.07 0.07 0.00 0.14 0.00 0.14 0.00 0.07  https://www.paradoxplaza.com/on-sale/\n",
      "0.00 0.00 0.00 0.00 0.00 0.00 0.00 0.00 0.00 0.00 0.00 0.00 0.00  http://merch.paradoxplaza.com/\n",
      "0.07 0.00 0.07 0.07 0.14 0.07 0.07 0.00 0.07 0.07 0.21 0.07 0.07  https://www.paradoxplaza.com/register\n",
      "0.07 0.00 0.00 0.07 0.13 0.07 0.00 0.00 0.07 0.00 0.13 0.07 0.07  https://www.paradoxplaza.com/news\n",
      "0.00 0.00 0.00 0.00 0.00 0.00 0.07 0.00 0.00 0.00 0.00 0.00 0.00  https://play.paradoxplaza.com\n"
     ]
    }
   ],
   "source": [
    "print_sto()"
   ]
  },
  {
   "cell_type": "code",
   "execution_count": 190,
   "metadata": {},
   "outputs": [],
   "source": [
    "from numpy import *\n",
    "# fixxed with pretty print\n",
    "    #change me to change the prcesion displayed\n",
    "    #float_formatter = lambda x: \"%.4f\" % x\n",
    "    #set_printoptions(formatter={'float_kind':float_formatter})\n",
    "\n",
    "fin_iter = []\n",
    " \n",
    "def pagerank(H):\n",
    "    n= len(H)\n",
    "    w = zeros(n)\n",
    "    rho = 1./n * ones(n);\n",
    "    for i in range(n):\n",
    "      if multiply.reduce(H[i]== zeros(n)):\n",
    "        w[i] = 1\n",
    "    newH = H + outer((1./n * w),ones(n))\n",
    " \n",
    "    theta=0.85\n",
    "    G = (theta * newH) + ((1-theta) * outer(1./n * ones(n), ones(n)))\n",
    "    #by replacing the python default print functions with this one the matricies print nicely with the notebook width set to 100% of the browser width\n",
    "    print '[',\n",
    "    for value in rho:\n",
    "        print \"{:1.4f} \".format(value),\n",
    "    print ']'\n",
    "    #print rho \n",
    "    \n",
    "    for j in range(10):\n",
    "        rho = dot(rho,G)\n",
    "        #more pretty print\n",
    "        print '[',\n",
    "        for value in rho:\n",
    "            print \"{:1.4f} \".format(value),\n",
    "            if(j == 9):\n",
    "                fin_iter.append(value)\n",
    "        print ']'\n",
    "        \n",
    "        #print rho"
   ]
  },
  {
   "cell_type": "code",
   "execution_count": 191,
   "metadata": {},
   "outputs": [
    {
     "name": "stdout",
     "output_type": "stream",
     "text": [
      "[ 0.0769  0.0769  0.0769  0.0769  0.0769  0.0769  0.0769  0.0769  0.0769  0.0769  0.0769  0.0769  0.0769  ]\n",
      "[ 0.0537  0.0309  0.0580  0.0537  0.1293  0.0537  0.0496  0.0263  0.0540  0.0403  0.1340  0.0446  0.0493  ]\n",
      "[ 0.0432  0.0246  0.0475  0.0432  0.1034  0.0432  0.0406  0.0164  0.0434  0.0343  0.1115  0.0368  0.0401  ]\n",
      "[ 0.0348  0.0199  0.0384  0.0348  0.0835  0.0348  0.0327  0.0131  0.0350  0.0277  0.0902  0.0298  0.0324  ]\n",
      "[ 0.0281  0.0161  0.0310  0.0281  0.0674  0.0281  0.0265  0.0106  0.0283  0.0224  0.0729  0.0240  0.0262  ]\n",
      "[ 0.0227  0.0130  0.0251  0.0227  0.0545  0.0227  0.0214  0.0086  0.0229  0.0181  0.0589  0.0194  0.0211  ]\n",
      "[ 0.0184  0.0105  0.0202  0.0184  0.0440  0.0184  0.0173  0.0069  0.0185  0.0146  0.0476  0.0157  0.0171  ]\n",
      "[ 0.0148  0.0085  0.0163  0.0148  0.0355  0.0148  0.0139  0.0056  0.0149  0.0118  0.0384  0.0127  0.0138  ]\n",
      "[ 0.0120  0.0068  0.0132  0.0120  0.0287  0.0120  0.0113  0.0045  0.0121  0.0095  0.0311  0.0102  0.0111  ]\n",
      "[ 0.0097  0.0055  0.0107  0.0097  0.0232  0.0097  0.0091  0.0036  0.0097  0.0077  0.0251  0.0083  0.0090  ]\n",
      "[ 0.0078  0.0045  0.0086  0.0078  0.0187  0.0078  0.0074  0.0029  0.0079  0.0062  0.0203  0.0067  0.0073  ]\n",
      "[0.007821869239737668, 0.004468994896641041, 0.00861804644368728, 0.007821869239737668, 0.018741047307441562, 0.007821869239737668, 0.00735109224027044, 0.0029460019621119814, 0.007864245568197313, 0.0062134017325441385, 0.02026404024197062, 0.006682132787940839, 0.007273189178069075]\n"
     ]
    }
   ],
   "source": [
    "pagerank(sto_matrix)"
   ]
  },
  {
   "cell_type": "markdown",
   "metadata": {},
   "source": [
    "and the top 5 urls after 10 iterations are..."
   ]
  },
  {
   "cell_type": "code",
   "execution_count": 206,
   "metadata": {},
   "outputs": [
    {
     "name": "stdout",
     "output_type": "stream",
     "text": [
      "[10, 4, 2, 8, 0]\n",
      "1st: https://www.paradoxplaza.com/register\n",
      "2nd: https://www.paradoxplaza.com/account\n",
      "3rd: https://www.paradoxplaza.com/support-static-info-ca.html\n",
      "4th: https://www.paradoxplaza.com/on-sale/\n",
      "5th: https://www.paradoxplaza.com/coming-soon/\n"
     ]
    }
   ],
   "source": [
    "def print_place(places): \n",
    "    nums = ['1st: ','2nd: ','3rd: ','4th: ','5th: ']\n",
    "    for i in range(5):\n",
    "        print nums[i]+pItems[refIndex[places[i]]]['base_link']\n",
    "\n",
    "max_val = 0\n",
    "prev_max = 100000\n",
    "index = 0\n",
    "cntr = 0\n",
    "place_indexes = []\n",
    "\n",
    "#print fin_iter\n",
    "\n",
    "for i in range(5):\n",
    "    for value in fin_iter:\n",
    "        if value > max_val and value < prev_max:\n",
    "            max_val = value\n",
    "            index = cntr\n",
    "        cntr += 1\n",
    "        \n",
    "    place_indexes.append(index)\n",
    "    prev_max = max_val\n",
    "    max_val = 0\n",
    "    cntr = 0\n",
    "\n",
    "print place_indexes\n",
    "    \n",
    "print_place(place_indexes)"
   ]
  },
  {
   "cell_type": "markdown",
   "metadata": {},
   "source": [
    "# 7.4 HITS algorithm\n",
    "Now time to create a connectivety matrix by modifying our `calc_sto` and `print_sto` functions to suit our needs"
   ]
  },
  {
   "cell_type": "code",
   "execution_count": 207,
   "metadata": {},
   "outputs": [
    {
     "name": "stdout",
     "output_type": "stream",
     "text": [
      "0.00 0.00 0.00 0.00 0.00 0.00 0.00 0.00 0.00 0.00 0.00 0.00 0.00  https://www.paradoxplaza.com/coming-soon/\n",
      "0.00 0.00 0.00 0.00 0.00 0.00 0.00 0.00 0.00 0.00 0.00 0.00 0.00  https://www.paradoxplaza.com/login?original=%2Faccount\n",
      "0.00 0.00 0.00 0.00 0.00 0.00 0.00 0.00 0.00 0.00 0.00 0.00 0.00  https://www.paradoxplaza.com/support-static-info-ca.html\n",
      "0.00 0.00 0.00 0.00 0.00 0.00 0.00 0.00 0.00 0.00 0.00 0.00 0.00  https://www.paradoxplaza.com/new-releases/\n",
      "0.00 0.00 0.00 0.00 0.00 0.00 0.00 0.00 0.00 0.00 0.00 0.00 0.00  https://www.paradoxplaza.com/account\n",
      "0.00 0.00 0.00 0.00 0.00 0.00 0.00 0.00 0.00 0.00 0.00 0.00 0.00  https://www.paradoxplaza.com/browse/\n",
      "0.00 0.00 0.00 0.00 0.00 0.00 0.00 0.00 0.00 0.00 0.00 0.00 0.00  https://forum.paradoxplaza.com/forum/index.php\n",
      "0.00 0.00 0.00 0.00 0.00 0.00 0.00 0.00 0.00 0.00 0.00 0.00 0.00  https://www.paradoxplaza.com/\n",
      "0.00 0.00 0.00 0.00 0.00 0.00 0.00 0.00 0.00 0.00 0.00 0.00 0.00  https://www.paradoxplaza.com/on-sale/\n",
      "0.00 0.00 0.00 0.00 0.00 0.00 0.00 0.00 0.00 0.00 0.00 0.00 0.00  http://merch.paradoxplaza.com/\n",
      "0.00 0.00 0.00 0.00 0.00 0.00 0.00 0.00 0.00 0.00 0.00 0.00 0.00  https://www.paradoxplaza.com/register\n",
      "0.00 0.00 0.00 0.00 0.00 0.00 0.00 0.00 0.00 0.00 0.00 0.00 0.00  https://www.paradoxplaza.com/news\n",
      "0.00 0.00 0.00 0.00 0.00 0.00 0.00 0.00 0.00 0.00 0.00 0.00 0.00  https://play.paradoxplaza.com\n"
     ]
    }
   ],
   "source": [
    "#initializing the connectivity matrix\n",
    "#uniq_links = len(pItems)\n",
    "conn_matrix = [[0 for col in range(uniq_links)] for row in range(uniq_links)]\n",
    "\n",
    "#creating print function\n",
    "def print_conn(extended=False):\n",
    "    for row in range(uniq_links):\n",
    "        for col in range(uniq_links):\n",
    "            print \"{:1.4f}\".format(conn_matrix[row][col]) if extended else \"{:1.2f}\".format(conn_matrix[row][col]),\n",
    "            \n",
    "        print \"\" if extended else ' '+pItems[refIndex[row]]['base_link'] \n",
    "\n",
    "print_conn()"
   ]
  },
  {
   "cell_type": "code",
   "execution_count": 208,
   "metadata": {},
   "outputs": [
    {
     "name": "stdout",
     "output_type": "stream",
     "text": [
      "Number of Outward Links not accounted for: 62\n"
     ]
    }
   ],
   "source": [
    "def calc_conn():\n",
    "    key_err_cnt = 0\n",
    "    for row in range(uniq_links):\n",
    "        key = refIndex[row]\n",
    "        num_of_links = pItems[key]['num_of_links']\n",
    "        weight = 1 #0 if num_of_links == 0 else (1.0 / num_of_links)\n",
    "        \n",
    "        for links in pItems[key]['outward_links_hashes']:\n",
    "            try:\n",
    "                col = refHash[links]\n",
    "            except KeyError, e:\n",
    "                #print 'I got a KeyError - reason \"%s\"' % str(e)\n",
    "                key_err_cnt += 1\n",
    "                continue     \n",
    "            conn_matrix[row][col] = weight\n",
    "            \n",
    "    print \"Number of Outward Links not accounted for: \"+str(key_err_cnt)\n",
    "    \n",
    "calc_conn()"
   ]
  },
  {
   "cell_type": "code",
   "execution_count": 181,
   "metadata": {},
   "outputs": [
    {
     "name": "stdout",
     "output_type": "stream",
     "text": [
      "1.00 0.00 0.00 0.00 1.00 0.00 0.00 0.00 0.00 0.00 1.00 0.00 0.00  https://www.paradoxplaza.com/coming-soon/\n",
      "1.00 1.00 1.00 1.00 1.00 1.00 1.00 0.00 1.00 1.00 1.00 1.00 1.00  https://www.paradoxplaza.com/login?original=%2Faccount\n",
      "0.00 0.00 1.00 0.00 1.00 0.00 0.00 0.00 0.00 0.00 1.00 0.00 0.00  https://www.paradoxplaza.com/support-static-info-ca.html\n",
      "0.00 0.00 0.00 1.00 1.00 0.00 0.00 0.00 0.00 0.00 1.00 0.00 0.00  https://www.paradoxplaza.com/new-releases/\n",
      "1.00 1.00 1.00 1.00 1.00 1.00 1.00 0.00 1.00 1.00 1.00 1.00 1.00  https://www.paradoxplaza.com/account\n",
      "0.00 0.00 0.00 0.00 1.00 1.00 0.00 0.00 0.00 0.00 1.00 0.00 0.00  https://www.paradoxplaza.com/browse/\n",
      "0.00 0.00 0.00 0.00 0.00 0.00 0.00 0.00 0.00 0.00 0.00 0.00 0.00  https://forum.paradoxplaza.com/forum/index.php\n",
      "1.00 0.00 1.00 1.00 1.00 1.00 1.00 1.00 1.00 1.00 1.00 1.00 1.00  https://www.paradoxplaza.com/\n",
      "1.00 0.00 1.00 1.00 1.00 1.00 1.00 0.00 1.00 0.00 1.00 0.00 1.00  https://www.paradoxplaza.com/on-sale/\n",
      "0.00 0.00 0.00 0.00 0.00 0.00 0.00 0.00 0.00 0.00 0.00 0.00 0.00  http://merch.paradoxplaza.com/\n",
      "1.00 0.00 1.00 1.00 1.00 1.00 1.00 0.00 1.00 1.00 1.00 1.00 1.00  https://www.paradoxplaza.com/register\n",
      "1.00 0.00 0.00 1.00 1.00 1.00 0.00 0.00 1.00 0.00 1.00 1.00 1.00  https://www.paradoxplaza.com/news\n",
      "0.00 0.00 0.00 0.00 0.00 0.00 1.00 0.00 0.00 0.00 0.00 0.00 0.00  https://play.paradoxplaza.com\n"
     ]
    }
   ],
   "source": [
    "print_conn()"
   ]
  },
  {
   "cell_type": "markdown",
   "metadata": {},
   "source": [
    "Above I've printed our connectivity matrix. Below we will run it through HITS.\n",
    "I've modified the hits code like the pagerank code to make the print formatting better."
   ]
  },
  {
   "cell_type": "code",
   "execution_count": 209,
   "metadata": {},
   "outputs": [],
   "source": [
    "def hits(A):\n",
    "    n= len(A)\n",
    "    Au= dot(transpose(A),A)\n",
    "    Hu = dot(A,transpose(A))\n",
    "    a = ones(n); h = ones(n)\n",
    "    \n",
    "    #more pretty print\n",
    "    print '[',\n",
    "    for value in a:\n",
    "        print \"{:1.4f} \".format(value),\n",
    "    print ']',\n",
    "    print '[',\n",
    "    for value in h:\n",
    "        print \"{:1.4f} \".format(value),\n",
    "    print ']'\n",
    "    \n",
    "    for j in range(5):\n",
    "        a = dot(a,Au)\n",
    "        a= a/sum(a)\n",
    "        h = dot(h,Hu)\n",
    "        h = h/ sum(h)\n",
    "        \n",
    "        #more pretty print\n",
    "        print '[',\n",
    "        for value in a:\n",
    "            print \"{:1.4f} \".format(value),\n",
    "        print ']',\n",
    "        print '[',\n",
    "        for value in h:\n",
    "            print \"{:1.4f} \".format(value),\n",
    "        print ']'"
   ]
  },
  {
   "cell_type": "code",
   "execution_count": 210,
   "metadata": {},
   "outputs": [
    {
     "name": "stdout",
     "output_type": "stream",
     "text": [
      "[ 1.0000  1.0000  1.0000  1.0000  1.0000  1.0000  1.0000  1.0000  1.0000  1.0000  1.0000  1.0000  1.0000  ] [ 1.0000  1.0000  1.0000  1.0000  1.0000  1.0000  1.0000  1.0000  1.0000  1.0000  1.0000  1.0000  1.0000  ]\n",
      "[ 0.0912  0.0327  0.0803  0.0912  0.1034  0.0912  0.0776  0.0163  0.0871  0.0639  0.1034  0.0748  0.0871  ] [ 0.0503  0.1415  0.0484  0.0503  0.1415  0.0503  0.0000  0.1397  0.1210  0.0000  0.1378  0.1080  0.0112  ]\n",
      "[ 0.0917  0.0315  0.0798  0.0917  0.1058  0.0917  0.0765  0.0155  0.0869  0.0622  0.1058  0.0739  0.0869  ] [ 0.0457  0.1460  0.0439  0.0457  0.1460  0.0457  0.0000  0.1437  0.1215  0.0000  0.1414  0.1093  0.0112  ]\n",
      "[ 0.0917  0.0314  0.0798  0.0917  0.1061  0.0917  0.0764  0.0155  0.0869  0.0621  0.1061  0.0738  0.0869  ] [ 0.0452  0.1464  0.0435  0.0452  0.1464  0.0452  0.0000  0.1440  0.1216  0.0000  0.1417  0.1093  0.0113  ]\n",
      "[ 0.0917  0.0314  0.0798  0.0917  0.1061  0.0917  0.0764  0.0155  0.0869  0.0621  0.1061  0.0738  0.0869  ] [ 0.0452  0.1464  0.0434  0.0452  0.1464  0.0452  0.0000  0.1441  0.1216  0.0000  0.1418  0.1093  0.0114  ]\n",
      "[ 0.0917  0.0314  0.0798  0.0917  0.1061  0.0917  0.0764  0.0155  0.0869  0.0621  0.1061  0.0738  0.0869  ] [ 0.0452  0.1464  0.0434  0.0452  0.1464  0.0452  0.0000  0.1441  0.1216  0.0000  0.1418  0.1093  0.0114  ]\n"
     ]
    }
   ],
   "source": [
    "hits(conn_matrix)"
   ]
  },
  {
   "cell_type": "markdown",
   "metadata": {},
   "source": [
    "# Thoughts"
   ]
  },
  {
   "cell_type": "markdown",
   "metadata": {},
   "source": [
    "To be honest I am not sure how to read the hits output matrix. Reading the link you provided, they just cut off after showing the HITS alogrithm. And while I would normally be more motivated to continue on because this is interesting, but by now I have spent nearly 20 hours on this assignment, it is Saturday the week after it was due, and I haven't even thouched this weeks homework or my final project. I would have to blame scrapy for the giant time sink this homwork was, but I think it has far more to do with how juypter and scrapy refuse to work well together, as well as the multiple python versions I have installed on my computer."
   ]
  },
  {
   "cell_type": "code",
   "execution_count": null,
   "metadata": {},
   "outputs": [],
   "source": []
  }
 ],
 "metadata": {
  "kernelspec": {
   "display_name": "Python 2",
   "language": "python",
   "name": "python2"
  },
  "language_info": {
   "codemirror_mode": {
    "name": "ipython",
    "version": 2
   },
   "file_extension": ".py",
   "mimetype": "text/x-python",
   "name": "python",
   "nbconvert_exporter": "python",
   "pygments_lexer": "ipython2",
   "version": "2.7.15"
  }
 },
 "nbformat": 4,
 "nbformat_minor": 2
}
